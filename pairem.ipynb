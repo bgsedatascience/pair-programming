{
 "cells": [
  {
   "cell_type": "markdown",
   "metadata": {
    "ein.tags": "worksheet-0",
    "slideshow": {
     "slide_type": "-"
    }
   },
   "source": [
    "# Pair Programming\n",
    "\n",
    "Programming in pairs is a serious methodology, proven in many studies to be more effective than programming alone. Today we will pair up, but we need to decide how to match everyone!\n",
    "\n",
    "To do that, we need to write a function that can, taking the list of students, can randomly pair them together. \n",
    "\n",
    "You have seen \"assertions\" in both python (assert) and R (stopifnot). I would like you to write your own, BEFORE you write the code to the function \"make_pairs\". Write an assertion, then write the code to make the assertion pass. This automates your testing!\n",
    "\n",
    "The output should be: \n",
    "\n",
    "1. A list of lists. \n",
    "2. Each \"row\" should have 2-3 elements.\n",
    "3. Each element should be a full name (i.e. \"Nandan Rao\")\n",
    "4. Each person should be somewhere in the list.\n",
    "5. No person should appear more than once!\n",
    "\n",
    "Good luck!"
   ]
  },
  {
   "cell_type": "code",
   "execution_count": 158,
   "metadata": {
    "autoscroll": false,
    "ein.hycell": false,
    "ein.tags": "worksheet-0",
    "slideshow": {
     "slide_type": "-"
    }
   },
   "outputs": [],
   "source": [
    "import random\n",
    "import csv\n",
    "\n",
    "with open('class.csv', 'r') as f: \n",
    "    students = [dict(l) for l in csv.DictReader(f)]"
   ]
  },
  {
   "cell_type": "code",
   "execution_count": 167,
   "metadata": {
    "autoscroll": false,
    "ein.hycell": false,
    "ein.tags": "worksheet-0",
    "slideshow": {
     "slide_type": "-"
    }
   },
   "outputs": [],
   "source": [
    "def make_pairs(students):\n",
    "    \n",
    "    sample = random.sample(students, len(students))\n",
    "    \n",
    "    \n",
    "    if len(sample) % 2 == 1:\n",
    "        bottom = int((len(sample)-1) / 2)\n",
    "        top = int(len(sample)-1)\n",
    "        last = sample[-1]\n",
    "        split_bottom = sample[0:bottom]\n",
    "        split_top = sample[bottom:top]\n",
    "    else:\n",
    "        top = int(len(sample) / 2)\n",
    "        bottom = int(len(sample))\n",
    "    \n",
    "    \n",
    "    pairs = []\n",
    "\n",
    "    if len(sample) % 2 == 0:\n",
    "        for i in range(0,len(split_bottom)):\n",
    "            pairs.append({'Student 1' : split_bottom[i][\"First Name\"] + \" \" +split_bottom[i][\"Last Name\"], \n",
    "                          'Student 2' : split_top[i][\"First Name\"] + \" \" +split_top[i][\"Last Name\"]})\n",
    "    else :\n",
    "        for i in range(0,len(split_bottom)):\n",
    "            if i == 0 :\n",
    "                pairs.append({'Student 1' : split_bottom[i][\"First Name\"] + \" \" +split_bottom[i][\"Last Name\"], \n",
    "                              'Student 2' : split_top[i][\"First Name\"] + \" \" +split_top[i][\"Last Name\"],\n",
    "                              'Student 3' : last[\"First Name\"] + \" \" + last[\"Last Name\"]})\n",
    "            else:\n",
    "                pairs.append({'Student 1' : split_bottom[i][\"First Name\"] + \" \" +split_bottom[i][\"Last Name\"], \n",
    "                             'Student 2' : split_top[i][\"First Name\"] + \" \" +split_top[i][\"Last Name\"]})\n",
    "    \n",
    "\n",
    "    \n",
    "    \n",
    "    return [pairs]"
   ]
  },
  {
   "cell_type": "code",
   "execution_count": 163,
   "metadata": {
    "autoscroll": false,
    "ein.hycell": false,
    "ein.tags": "worksheet-0",
    "slideshow": {
     "slide_type": "-"
    }
   },
   "outputs": [],
   "source": [
    "# Write your own test for the assignment!\n",
    "\n",
    "test_students = [\n",
    "    {'First Name': 'Foo', 'Last Name': 'Funderson'},\n",
    "    {'First Name': 'Baz', 'Last Name': 'Bazerson'},\n",
    "    {'First Name': 'Bar', 'Last Name': 'Barson'},\n",
    "    {'First Name': 'Qux', 'Last Name': 'Quxson'},\n",
    "    {'First Name': 'Quux', 'Last Name': 'Quuxson'},\n",
    "]\n",
    "\n",
    "pairs = make_pairs(test_students)\n",
    "\n",
    "# Write assertions here!\n",
    "assert(type(pairs) == list)\n",
    "#assert(set(pairs) == set(test_students))"
   ]
  },
  {
   "cell_type": "code",
   "execution_count": null,
   "metadata": {},
   "outputs": [],
   "source": []
  }
 ],
 "metadata": {
  "kernelspec": {
   "display_name": "Python 3",
   "language": "python",
   "name": "python3"
  },
  "language_info": {
   "codemirror_mode": {
    "name": "ipython",
    "version": 3
   },
   "file_extension": ".py",
   "mimetype": "text/x-python",
   "name": "python",
   "nbconvert_exporter": "python",
   "pygments_lexer": "ipython3",
   "version": "3.6.3"
  },
  "name": "Untitled.ipynb"
 },
 "nbformat": 4,
 "nbformat_minor": 2
}
