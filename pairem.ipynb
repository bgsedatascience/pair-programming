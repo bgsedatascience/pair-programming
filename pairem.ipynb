{
 "cells": [
  {
   "cell_type": "markdown",
   "metadata": {
    "ein.tags": "worksheet-0",
    "slideshow": {
     "slide_type": "-"
    }
   },
   "source": [
    "# Pair Programming\n",
    "\n",
    "Programming in pairs is a serious methodology, proven in many studies to be more effective than programming alone. Today we will pair up, but we need to decide how to match everyone!\n",
    "\n",
    "To do that, we need to write a function that can, taking the list of students, can randomly pair them together. \n",
    "\n",
    "You have seen \"assertions\" in both python (assert) and R (stopifnot). I would like you to write your own, BEFORE you write the code to the function \"make_pairs\". Write an assertion, then write the code to make the assertion pass. This automates your testing!\n",
    "\n",
    "The output should be: \n",
    "\n",
    "1. A list of lists. \n",
    "2. Each \"row\" should have 2-3 elements.\n",
    "3. Each element should be a full name (i.e. \"Nandan Rao\")\n",
    "4. Each person should be somewhere in the list.\n",
    "5. No person should appear more than once!\n",
    "\n",
    "Good luck!"
   ]
  },
  {
   "cell_type": "code",
   "execution_count": 29,
   "metadata": {
    "autoscroll": false,
    "ein.hycell": false,
    "ein.tags": "worksheet-0",
    "slideshow": {
     "slide_type": "-"
    }
   },
   "outputs": [
    {
     "name": "stdout",
     "output_type": "stream",
     "text": [
      "[{'First Name': 'Felix', 'Last Name': 'Adam', 'GSE Email': 'felix.adam@barcelonagse.eu'}, {'First Name': 'Sixter Leonardo', 'Last Name': 'Alcivar', 'GSE Email': 'sixter.alcivar@barcelonagse.eu'}, {'First Name': 'Julia Bois', 'Last Name': 'Barnett', 'GSE Email': 'julia.barnett@barcelonagse.eu'}, {'First Name': 'Eric Alan', 'Last Name': 'Beckwith', 'GSE Email': 'eric.beckwith@barcelonagse.eu'}, {'First Name': 'Maia', 'Last Name': 'Brenner Stainfeld', 'GSE Email': 'maia.brennerstainfeld@barcelonagse.eu'}, {'First Name': 'Hannah', 'Last Name': 'Busshoff', 'GSE Email': 'hannah.busshoff@barcelonagse.eu'}, {'First Name': 'Hector Eulogio', 'Last Name': 'Cano', 'GSE Email': 'hector.cano@barcelonagse.eu'}, {'First Name': 'Reid', 'Last Name': 'Falconer', 'GSE Email': 'reid.falconer@barcelonagse.eu'}, {'First Name': 'Lucas', 'Last Name': 'Freire', 'GSE Email': 'lucas.freire@barcelonagse.eu'}, {'First Name': 'Hannah', 'Last Name': 'Gerits', 'GSE Email': 'hannah.gerits@barcelonagse.eu'}, {'First Name': 'Georgi Konstantinov', 'Last Name': 'Gulyashki', 'GSE Email': 'georgi.gulyashki@barcelonagse.eu'}, {'First Name': 'Ari', 'Last Name': 'Lam', 'GSE Email': 'ari.lam@barcelonagse.eu'}, {'First Name': 'Sam Peter', 'Last Name': 'MacIntyre', 'GSE Email': 'sam.macintyre@barcelonagse.eu'}, {'First Name': 'Oscar', 'Last Name': 'Martínez', 'GSE Email': 'oscar.martinez@barcelonagse.eu'}, {'First Name': 'Monika Anna', 'Last Name': 'Matyja', 'GSE Email': 'monika.matyja@barcelonagse.eu'}, {'First Name': 'Evelyn Maria', 'Last Name': 'Molina Bolaños', 'GSE Email': 'evelyn.molinabolanos@barcelonagse.eu'}, {'First Name': 'Jordi', 'Last Name': 'Morera Serra', 'GSE Email': 'jordi.morera@barcelonagse.eu'}, {'First Name': 'Konstantinos', 'Last Name': 'Niakaros', 'GSE Email': 'konstantinos.niakaros@barcelonagse.eu'}, {'First Name': 'Snorri', 'Last Name': 'Petersen', 'GSE Email': 'snorri.petersen@barcelonagse.eu'}, {'First Name': 'Maryam', 'Last Name': 'Rahbaralam', 'GSE Email': 'maryam.rahbaralam@barcelonagse.eu'}, {'First Name': 'Guillem', 'Last Name': 'Sitges', 'GSE Email': 'guillem.sitges@barcelonagse.eu'}, {'First Name': 'Callan James', 'Last Name': 'Windsor', 'GSE Email': 'callan.windsor@barcelonagse.eu'}, {'First Name': 'Sebastian', 'Last Name': 'Wolf', 'GSE Email': 'sebastian.wolf@barcelonagse.eu'}, {'First Name': 'Kaka', 'Last Name': 'Ye', 'GSE Email': 'kaka.ye@barcelonagse.eu'}, {'First Name': 'Maximilian', 'Last Name': 'Zebhauser', 'GSE Email': 'maximilian.zebhauser@barcelonagse.eu'}]\n"
     ]
    }
   ],
   "source": [
    "import csv\n",
    "\n",
    "with open('class.csv', 'r') as f: \n",
    "    students = [dict(l) for l in csv.DictReader(f)]\n",
    "    \n",
    "print(students)"
   ]
  },
  {
   "cell_type": "code",
   "execution_count": 30,
   "metadata": {},
   "outputs": [
    {
     "data": {
      "text/plain": [
       "list"
      ]
     },
     "execution_count": 30,
     "metadata": {},
     "output_type": "execute_result"
    }
   ],
   "source": [
    "type(students)\n"
   ]
  },
  {
   "cell_type": "code",
   "execution_count": 62,
   "metadata": {},
   "outputs": [
    {
     "name": "stdout",
     "output_type": "stream",
     "text": [
      "['Felix Adam', 'Sixter Leonardo Alcivar', 'Julia Bois Barnett', 'Eric Alan Beckwith', 'Maia Brenner Stainfeld', 'Hannah Busshoff', 'Hector Eulogio Cano', 'Reid Falconer', 'Lucas Freire', 'Hannah Gerits', 'Georgi Konstantinov Gulyashki', 'Ari Lam', 'Sam Peter MacIntyre', 'Oscar Martínez', 'Monika Anna Matyja', 'Evelyn Maria Molina Bolaños', 'Jordi Morera Serra', 'Konstantinos Niakaros', 'Snorri Petersen', 'Maryam Rahbaralam', 'Guillem Sitges', 'Callan James Windsor', 'Sebastian Wolf', 'Kaka Ye', 'Maximilian Zebhauser']\n"
     ]
    }
   ],
   "source": [
    "student_list = [student[\"First Name\"] + \" \" + student[\"Last Name\"] for student in students]\n",
    "print(student_list)"
   ]
  },
  {
   "cell_type": "code",
   "execution_count": 71,
   "metadata": {},
   "outputs": [
    {
     "name": "stdout",
     "output_type": "stream",
     "text": [
      "[('Reid Falconer', 'Kaka Ye'), ('Sebastian Wolf', 'Felix Adam'), ('Hannah Busshoff', 'Monika Anna Matyja'), ('Oscar Martínez', 'Snorri Petersen'), ('Jordi Morera Serra', 'Sixter Leonardo Alcivar'), ('Maryam Rahbaralam', 'Maximilian Zebhauser'), ('Eric Alan Beckwith', 'Sam Peter MacIntyre'), ('Hector Eulogio Cano', 'Maia Brenner Stainfeld'), ('Julia Bois Barnett', 'Konstantinos Niakaros'), ('Ari Lam', 'Guillem Sitges'), ('Hannah Gerits', 'Lucas Freire'), ('Georgi Konstantinov Gulyashki', 'Evelyn Maria Molina Bolaños')]\n"
     ]
    }
   ],
   "source": [
    "import random\n",
    "\n",
    "def randomise_events(student_list):\n",
    "    \n",
    "    student_list = student_list.copy()\n",
    "    \n",
    "    random.shuffle(student_list)\n",
    "\n",
    "    if len(student_list)%2 != 0 : \n",
    "        random_student = student_list.pop()\n",
    "\n",
    "    half = round(len(student_list)/2) \n",
    "\n",
    "    student_pairs = []\n",
    "\n",
    "    i = 1\n",
    "\n",
    "    for student in student_list[:half]:\n",
    "        other_student = student_list[-i]\n",
    "        i += 1\n",
    "        pair = [student, other_student]\n",
    "        student_pairs.append(pair)\n",
    "    \n",
    "    \n",
    "    if random_student: \n",
    "        student_pairs[0].append(random_student)\n",
    "        \n",
    "    return student_pairs\n",
    "\n",
    "print(student_pairs)"
   ]
  },
  {
   "cell_type": "code",
   "execution_count": null,
   "metadata": {},
   "outputs": [],
   "source": []
  },
  {
   "cell_type": "code",
   "execution_count": null,
   "metadata": {},
   "outputs": [],
   "source": []
  },
  {
   "cell_type": "code",
   "execution_count": null,
   "metadata": {},
   "outputs": [],
   "source": []
  },
  {
   "cell_type": "code",
   "execution_count": null,
   "metadata": {},
   "outputs": [],
   "source": []
  },
  {
   "cell_type": "code",
   "execution_count": null,
   "metadata": {},
   "outputs": [],
   "source": []
  },
  {
   "cell_type": "code",
   "execution_count": null,
   "metadata": {},
   "outputs": [],
   "source": []
  },
  {
   "cell_type": "code",
   "execution_count": 32,
   "metadata": {},
   "outputs": [
    {
     "name": "stdout",
     "output_type": "stream",
     "text": [
      "{0: {'First Name': 'Felix', 'Last Name': 'Adam', 'GSE Email': 'felix.adam@barcelonagse.eu'}, 1: {'First Name': 'Sixter Leonardo', 'Last Name': 'Alcivar', 'GSE Email': 'sixter.alcivar@barcelonagse.eu'}, 2: {'First Name': 'Julia Bois', 'Last Name': 'Barnett', 'GSE Email': 'julia.barnett@barcelonagse.eu'}, 3: {'First Name': 'Eric Alan', 'Last Name': 'Beckwith', 'GSE Email': 'eric.beckwith@barcelonagse.eu'}, 4: {'First Name': 'Maia', 'Last Name': 'Brenner Stainfeld', 'GSE Email': 'maia.brennerstainfeld@barcelonagse.eu'}, 5: {'First Name': 'Hannah', 'Last Name': 'Busshoff', 'GSE Email': 'hannah.busshoff@barcelonagse.eu'}, 6: {'First Name': 'Hector Eulogio', 'Last Name': 'Cano', 'GSE Email': 'hector.cano@barcelonagse.eu'}, 7: {'First Name': 'Reid', 'Last Name': 'Falconer', 'GSE Email': 'reid.falconer@barcelonagse.eu'}, 8: {'First Name': 'Lucas', 'Last Name': 'Freire', 'GSE Email': 'lucas.freire@barcelonagse.eu'}, 9: {'First Name': 'Hannah', 'Last Name': 'Gerits', 'GSE Email': 'hannah.gerits@barcelonagse.eu'}, 10: {'First Name': 'Georgi Konstantinov', 'Last Name': 'Gulyashki', 'GSE Email': 'georgi.gulyashki@barcelonagse.eu'}, 11: {'First Name': 'Ari', 'Last Name': 'Lam', 'GSE Email': 'ari.lam@barcelonagse.eu'}, 12: {'First Name': 'Sam Peter', 'Last Name': 'MacIntyre', 'GSE Email': 'sam.macintyre@barcelonagse.eu'}, 13: {'First Name': 'Oscar', 'Last Name': 'Martínez', 'GSE Email': 'oscar.martinez@barcelonagse.eu'}, 14: {'First Name': 'Monika Anna', 'Last Name': 'Matyja', 'GSE Email': 'monika.matyja@barcelonagse.eu'}, 15: {'First Name': 'Evelyn Maria', 'Last Name': 'Molina Bolaños', 'GSE Email': 'evelyn.molinabolanos@barcelonagse.eu'}, 16: {'First Name': 'Jordi', 'Last Name': 'Morera Serra', 'GSE Email': 'jordi.morera@barcelonagse.eu'}, 17: {'First Name': 'Konstantinos', 'Last Name': 'Niakaros', 'GSE Email': 'konstantinos.niakaros@barcelonagse.eu'}, 18: {'First Name': 'Snorri', 'Last Name': 'Petersen', 'GSE Email': 'snorri.petersen@barcelonagse.eu'}, 19: {'First Name': 'Maryam', 'Last Name': 'Rahbaralam', 'GSE Email': 'maryam.rahbaralam@barcelonagse.eu'}, 20: {'First Name': 'Guillem', 'Last Name': 'Sitges', 'GSE Email': 'guillem.sitges@barcelonagse.eu'}, 21: {'First Name': 'Callan James', 'Last Name': 'Windsor', 'GSE Email': 'callan.windsor@barcelonagse.eu'}, 22: {'First Name': 'Sebastian', 'Last Name': 'Wolf', 'GSE Email': 'sebastian.wolf@barcelonagse.eu'}, 23: {'First Name': 'Kaka', 'Last Name': 'Ye', 'GSE Email': 'kaka.ye@barcelonagse.eu'}, 24: {'First Name': 'Maximilian', 'Last Name': 'Zebhauser', 'GSE Email': 'maximilian.zebhauser@barcelonagse.eu'}}\n"
     ]
    }
   ],
   "source": [
    "\n",
    "b = dict(enumerate(students))\n",
    "print(b)"
   ]
  },
  {
   "cell_type": "code",
   "execution_count": 40,
   "metadata": {},
   "outputs": [],
   "source": [
    "import random\n",
    "import itertools\n",
    "\n",
    "\n",
    "\n"
   ]
  },
  {
   "cell_type": "code",
   "execution_count": 53,
   "metadata": {},
   "outputs": [],
   "source": [
    "def make_pairs(student_list):\n",
    "  # Generate all possible non-repeating pairs\n",
    "  pair = list(itertools.combinations(student_list, 2))\n",
    "  # Randomly shuffle these pairs\n",
    "  print(random.shuffle(pair))\n",
    "  return pair\n",
    "\n",
    "\n",
    "\n"
   ]
  },
  {
   "cell_type": "code",
   "execution_count": 54,
   "metadata": {},
   "outputs": [
    {
     "name": "stdout",
     "output_type": "stream",
     "text": [
      "None\n",
      "[({'First Name': 'Bar', 'Last Name': 'Barson'}, {'First Name': 'Qux', 'Last Name': 'Quxson'}), ({'First Name': 'Baz', 'Last Name': 'Bazerson'}, {'First Name': 'Qux', 'Last Name': 'Quxson'}), ({'First Name': 'Hannah', 'Last Name': 'Gerits'}, {'First Name': 'Bar', 'Last Name': 'Barson'}), ({'First Name': 'Hannah', 'Last Name': 'Gerits'}, {'First Name': 'Quux', 'Last Name': 'Quuxson'}), ({'First Name': 'Baz', 'Last Name': 'Bazerson'}, {'First Name': 'Bar', 'Last Name': 'Barson'}), ({'First Name': 'Qux', 'Last Name': 'Quxson'}, {'First Name': 'Quux', 'Last Name': 'Quuxson'}), ({'First Name': 'Hannah', 'Last Name': 'Gerits'}, {'First Name': 'Qux', 'Last Name': 'Quxson'}), ({'First Name': 'Bar', 'Last Name': 'Barson'}, {'First Name': 'Quux', 'Last Name': 'Quuxson'}), ({'First Name': 'Hannah', 'Last Name': 'Gerits'}, {'First Name': 'Baz', 'Last Name': 'Bazerson'}), ({'First Name': 'Baz', 'Last Name': 'Bazerson'}, {'First Name': 'Quux', 'Last Name': 'Quuxson'})]\n"
     ]
    }
   ],
   "source": [
    "# Write your own test for the assignment!\n",
    "test_students = [\n",
    "    {'First Name': 'Hannah', 'Last Name': 'Gerits'},\n",
    "    {'First Name': 'Baz', 'Last Name': 'Bazerson'},\n",
    "    {'First Name': 'Bar', 'Last Name': 'Barson'},\n",
    "    {'First Name': 'Qux', 'Last Name': 'Quxson'},\n",
    "    {'First Name': 'Quux', 'Last Name': 'Quuxson'},\n",
    "]\n",
    "\n",
    "pairs = make_pairs(test_students)\n",
    "\n",
    "# Write assertions here!\n",
    "assert(type(pairs) == list)\n",
    "\n",
    "\n",
    "print(pairs)"
   ]
  },
  {
   "cell_type": "code",
   "execution_count": 21,
   "metadata": {
    "autoscroll": false,
    "ein.hycell": false,
    "ein.tags": "worksheet-0",
    "slideshow": {
     "slide_type": "-"
    }
   },
   "outputs": [],
   "source": [
    "def make_pairs(students, students2):\n",
    "    for pair in itertools.combinations(students,students2):\n",
    "        print(pair)\n",
    "    \n",
    "    \n",
    "    \n",
    "   \n"
   ]
  },
  {
   "cell_type": "code",
   "execution_count": null,
   "metadata": {},
   "outputs": [],
   "source": [
    "#assert students.name == name  \n",
    " #return [id]"
   ]
  },
  {
   "cell_type": "code",
   "execution_count": 22,
   "metadata": {
    "autoscroll": false,
    "ein.hycell": false,
    "ein.tags": "worksheet-0",
    "slideshow": {
     "slide_type": "-"
    }
   },
   "outputs": [
    {
     "ename": "TypeError",
     "evalue": "make_pairs() missing 1 required positional argument: 'students2'",
     "output_type": "error",
     "traceback": [
      "\u001b[0;31m---------------------------------------------------------------------------\u001b[0m",
      "\u001b[0;31mTypeError\u001b[0m                                 Traceback (most recent call last)",
      "\u001b[0;32m<ipython-input-22-b091c53069d0>\u001b[0m in \u001b[0;36m<module>\u001b[0;34m()\u001b[0m\n\u001b[1;32m      9\u001b[0m ]\n\u001b[1;32m     10\u001b[0m \u001b[0;34m\u001b[0m\u001b[0m\n\u001b[0;32m---> 11\u001b[0;31m \u001b[0mpairs\u001b[0m \u001b[0;34m=\u001b[0m \u001b[0mmake_pairs\u001b[0m\u001b[0;34m(\u001b[0m\u001b[0mtest_students\u001b[0m\u001b[0;34m)\u001b[0m\u001b[0;34m\u001b[0m\u001b[0m\n\u001b[0m\u001b[1;32m     12\u001b[0m \u001b[0;34m\u001b[0m\u001b[0m\n\u001b[1;32m     13\u001b[0m \u001b[0;31m# Write assertions here!\u001b[0m\u001b[0;34m\u001b[0m\u001b[0;34m\u001b[0m\u001b[0m\n",
      "\u001b[0;31mTypeError\u001b[0m: make_pairs() missing 1 required positional argument: 'students2'"
     ]
    }
   ],
   "source": []
  }
 ],
 "metadata": {
  "kernelspec": {
   "display_name": "Python 3",
   "language": "python",
   "name": "python3"
  },
  "language_info": {
   "codemirror_mode": {
    "name": "ipython",
    "version": 3
   },
   "file_extension": ".py",
   "mimetype": "text/x-python",
   "name": "python",
   "nbconvert_exporter": "python",
   "pygments_lexer": "ipython3",
   "version": "3.6.3"
  },
  "name": "Untitled.ipynb"
 },
 "nbformat": 4,
 "nbformat_minor": 2
}
