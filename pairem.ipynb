{
 "cells": [
  {
   "cell_type": "markdown",
   "metadata": {
    "ein.tags": "worksheet-0",
    "slideshow": {
     "slide_type": "-"
    }
   },
   "source": [
    "# Pair Programming\n",
    "\n",
    "Programming in pairs is a serious methodology, proven in many studies to be more effective than programming alone. Today we will pair up, but we need to decide how to match everyone!\n",
    "\n",
    "To do that, we need to write a function that can, taking the list of students, can randomly pair them together. \n",
    "\n",
    "You have seen \"assertions\" in both python (assert) and R (stopifnot). I would like you to write your own, BEFORE you write the code to the function \"make_pairs\". Write an assertion, then write the code to make the assertion pass. This automates your testing!\n",
    "\n",
    "The output should be: \n",
    "\n",
    "1. A list of lists. \n",
    "2. Each \"row\" should have 2-3 elements.\n",
    "3. Each element should be a full name (i.e. \"Nandan Rao\")\n",
    "4. Each person should be somewhere in the list.\n",
    "5. No person should appear more than once!\n",
    "\n",
    "Good luck!"
   ]
  },
  {
   "cell_type": "code",
   "execution_count": 82,
   "metadata": {
    "autoscroll": false,
    "ein.hycell": false,
    "ein.tags": "worksheet-0",
    "slideshow": {
     "slide_type": "-"
    }
   },
   "outputs": [],
   "source": [
    "import csv\n",
    "\n",
    "with open('class.csv', 'r') as f: \n",
    "    students = [dict(l) for l in csv.DictReader(f)]"
   ]
  },
  {
   "cell_type": "code",
   "execution_count": 83,
   "metadata": {},
   "outputs": [
    {
     "data": {
      "text/plain": [
       "[{'First Name': 'Felix',\n",
       "  'Last Name': 'Adam',\n",
       "  'GSE Email': 'felix.adam@barcelonagse.eu'},\n",
       " {'First Name': 'Sixter Leonardo',\n",
       "  'Last Name': 'Alcivar',\n",
       "  'GSE Email': 'sixter.alcivar@barcelonagse.eu'},\n",
       " {'First Name': 'Julia Bois',\n",
       "  'Last Name': 'Barnett',\n",
       "  'GSE Email': 'julia.barnett@barcelonagse.eu'},\n",
       " {'First Name': 'Eric Alan',\n",
       "  'Last Name': 'Beckwith',\n",
       "  'GSE Email': 'eric.beckwith@barcelonagse.eu'},\n",
       " {'First Name': 'Maia',\n",
       "  'Last Name': 'Brenner Stainfeld',\n",
       "  'GSE Email': 'maia.brennerstainfeld@barcelonagse.eu'},\n",
       " {'First Name': 'Hannah',\n",
       "  'Last Name': 'Busshoff',\n",
       "  'GSE Email': 'hannah.busshoff@barcelonagse.eu'},\n",
       " {'First Name': 'Hector Eulogio',\n",
       "  'Last Name': 'Cano',\n",
       "  'GSE Email': 'hector.cano@barcelonagse.eu'},\n",
       " {'First Name': 'Reid',\n",
       "  'Last Name': 'Falconer',\n",
       "  'GSE Email': 'reid.falconer@barcelonagse.eu'},\n",
       " {'First Name': 'Lucas',\n",
       "  'Last Name': 'Freire',\n",
       "  'GSE Email': 'lucas.freire@barcelonagse.eu'},\n",
       " {'First Name': 'Hannah',\n",
       "  'Last Name': 'Gerits',\n",
       "  'GSE Email': 'hannah.gerits@barcelonagse.eu'},\n",
       " {'First Name': 'Georgi Konstantinov',\n",
       "  'Last Name': 'Gulyashki',\n",
       "  'GSE Email': 'georgi.gulyashki@barcelonagse.eu'},\n",
       " {'First Name': 'Ari',\n",
       "  'Last Name': 'Lam',\n",
       "  'GSE Email': 'ari.lam@barcelonagse.eu'},\n",
       " {'First Name': 'Sam Peter',\n",
       "  'Last Name': 'MacIntyre',\n",
       "  'GSE Email': 'sam.macintyre@barcelonagse.eu'},\n",
       " {'First Name': 'Oscar',\n",
       "  'Last Name': 'Martínez',\n",
       "  'GSE Email': 'oscar.martinez@barcelonagse.eu'},\n",
       " {'First Name': 'Monika Anna',\n",
       "  'Last Name': 'Matyja',\n",
       "  'GSE Email': 'monika.matyja@barcelonagse.eu'},\n",
       " {'First Name': 'Evelyn Maria',\n",
       "  'Last Name': 'Molina Bolaños',\n",
       "  'GSE Email': 'evelyn.molinabolanos@barcelonagse.eu'},\n",
       " {'First Name': 'Jordi',\n",
       "  'Last Name': 'Morera Serra',\n",
       "  'GSE Email': 'jordi.morera@barcelonagse.eu'},\n",
       " {'First Name': 'Konstantinos',\n",
       "  'Last Name': 'Niakaros',\n",
       "  'GSE Email': 'konstantinos.niakaros@barcelonagse.eu'},\n",
       " {'First Name': 'Snorri',\n",
       "  'Last Name': 'Petersen',\n",
       "  'GSE Email': 'snorri.petersen@barcelonagse.eu'},\n",
       " {'First Name': 'Maryam',\n",
       "  'Last Name': 'Rahbaralam',\n",
       "  'GSE Email': 'maryam.rahbaralam@barcelonagse.eu'},\n",
       " {'First Name': 'Guillem',\n",
       "  'Last Name': 'Sitges',\n",
       "  'GSE Email': 'guillem.sitges@barcelonagse.eu'},\n",
       " {'First Name': 'Callan James',\n",
       "  'Last Name': 'Windsor',\n",
       "  'GSE Email': 'callan.windsor@barcelonagse.eu'},\n",
       " {'First Name': 'Sebastian',\n",
       "  'Last Name': 'Wolf',\n",
       "  'GSE Email': 'sebastian.wolf@barcelonagse.eu'},\n",
       " {'First Name': 'Kaka',\n",
       "  'Last Name': 'Ye',\n",
       "  'GSE Email': 'kaka.ye@barcelonagse.eu'},\n",
       " {'First Name': 'Maximilian',\n",
       "  'Last Name': 'Zebhauser',\n",
       "  'GSE Email': 'maximilian.zebhauser@barcelonagse.eu'}]"
      ]
     },
     "execution_count": 83,
     "metadata": {},
     "output_type": "execute_result"
    }
   ],
   "source": [
    "students"
   ]
  },
  {
   "cell_type": "code",
   "execution_count": 84,
   "metadata": {},
   "outputs": [
    {
     "name": "stdout",
     "output_type": "stream",
     "text": [
      "['Felix Adam', 'Sixter Leonardo Alcivar', 'Julia Bois Barnett', 'Eric Alan Beckwith', 'Maia Brenner Stainfeld', 'Hannah Busshoff', 'Hector Eulogio Cano', 'Reid Falconer', 'Lucas Freire', 'Hannah Gerits', 'Georgi Konstantinov Gulyashki', 'Ari Lam', 'Sam Peter MacIntyre', 'Oscar Martínez', 'Monika Anna Matyja', 'Evelyn Maria Molina Bolaños', 'Jordi Morera Serra', 'Konstantinos Niakaros', 'Snorri Petersen', 'Maryam Rahbaralam', 'Guillem Sitges', 'Callan James Windsor', 'Sebastian Wolf', 'Kaka Ye', 'Maximilian Zebhauser']\n"
     ]
    }
   ],
   "source": [
    "student_list = [student[\"First Name\"] + \" \" + student[\"Last Name\"] \n",
    "                for student in students]\n",
    "print(student_list)"
   ]
  },
  {
   "cell_type": "code",
   "execution_count": 85,
   "metadata": {},
   "outputs": [
    {
     "data": {
      "text/plain": [
       "[['Lucas Freire', 'Sixter Leonardo Alcivar', 'Felix Adam'],\n",
       " ['Snorri Petersen', 'Hannah Gerits'],\n",
       " ['Maximilian Zebhauser', 'Hector Eulogio Cano'],\n",
       " ['Hannah Busshoff', 'Jordi Morera Serra'],\n",
       " ['Oscar Martínez', 'Sebastian Wolf'],\n",
       " ['Eric Alan Beckwith', 'Monika Anna Matyja'],\n",
       " ['Georgi Konstantinov Gulyashki', 'Guillem Sitges'],\n",
       " ['Evelyn Maria Molina Bolaños', 'Reid Falconer'],\n",
       " ['Maryam Rahbaralam', 'Julia Bois Barnett'],\n",
       " ['Ari Lam', 'Sam Peter MacIntyre'],\n",
       " ['Maia Brenner Stainfeld', 'Kaka Ye'],\n",
       " ['Callan James Windsor', 'Konstantinos Niakaros']]"
      ]
     },
     "execution_count": 85,
     "metadata": {},
     "output_type": "execute_result"
    }
   ],
   "source": [
    "import random\n",
    "\n",
    "def randomise_students(student_list):\n",
    "    student_list = student_list.copy()\n",
    "    random.shuffle(student_list)\n",
    "\n",
    "    if len(student_list)%2 != 0 : \n",
    "          random_student = student_list.pop()  \n",
    "\n",
    "    half = round(len(student_list)/2) \n",
    "\n",
    "    len(student_list[:half])\n",
    "\n",
    "    student_pairs = []\n",
    "\n",
    "    i = 1\n",
    "\n",
    "    for student in student_list[:half]:\n",
    "        other_student = student_list[-i]\n",
    "        i += 1\n",
    "        pair = [student, other_student]\n",
    "        student_pairs.append(pair)\n",
    "\n",
    "    if random_student :\n",
    "        student_pairs[0].append(random_student)\n",
    "    \n",
    "    return student_pairs\n",
    "\n",
    "randomise_students(student_list)\n"
   ]
  },
  {
   "cell_type": "code",
   "execution_count": 86,
   "metadata": {},
   "outputs": [
    {
     "name": "stdout",
     "output_type": "stream",
     "text": [
      "{1: ('Evelyn Maria Molina Bolaños', 'Maia Brenner Stainfeld'), 2: ('Sixter Leonardo Alcivar', 'Snorri Petersen'), 3: ('Oscar Martínez', 'Hector Eulogio Cano'), 4: ('Hannah Busshoff', 'Monika Anna Matyja'), 5: ('Sebastian Wolf', 'Ari Lam'), 6: ('Eric Alan Beckwith', 'Hannah Gerits'), 7: ('Kaka Ye', 'Callan James Windsor'), 8: ('Lucas Freire', 'Konstantinos Niakaros'), 9: ('Jordi Morera Serra', 'Guillem Sitges'), 10: ('Sam Peter MacIntyre', 'Maximilian Zebhauser'), 11: ('Georgi Konstantinov Gulyashki', 'Reid Falconer'), 12: ('Maryam Rahbaralam', 'Felix Adam')}\n"
     ]
    }
   ],
   "source": [
    "import random\n",
    "\n",
    "student = student_list\n",
    "pairs = {}\n",
    "\n",
    "for p in range(len(student) // 2):\n",
    "    pairs[p+1] = ( student.pop(random.randrange(len(student))),\n",
    "        student.pop(random.randrange(len(student))) )\n",
    "\n",
    "print(pairs)"
   ]
  },
  {
   "cell_type": "code",
   "execution_count": 35,
   "metadata": {
    "autoscroll": false,
    "ein.hycell": false,
    "ein.tags": "worksheet-0",
    "slideshow": {
     "slide_type": "-"
    }
   },
   "outputs": [
    {
     "name": "stdout",
     "output_type": "stream",
     "text": [
      "Foo Funderson\n",
      "Baz Bazerson\n",
      "Bar Barson\n",
      "Qux Quxson\n",
      "Quux Quuxson\n"
     ]
    },
    {
     "ename": "AssertionError",
     "evalue": "",
     "output_type": "error",
     "traceback": [
      "\u001b[0;31m---------------------------------------------------------------------------\u001b[0m",
      "\u001b[0;31mAssertionError\u001b[0m                            Traceback (most recent call last)",
      "\u001b[0;32m<ipython-input-35-b091c53069d0>\u001b[0m in \u001b[0;36m<module>\u001b[0;34m()\u001b[0m\n\u001b[1;32m     12\u001b[0m \u001b[0;34m\u001b[0m\u001b[0m\n\u001b[1;32m     13\u001b[0m \u001b[0;31m# Write assertions here!\u001b[0m\u001b[0;34m\u001b[0m\u001b[0;34m\u001b[0m\u001b[0m\n\u001b[0;32m---> 14\u001b[0;31m \u001b[0;32massert\u001b[0m\u001b[0;34m(\u001b[0m\u001b[0mtype\u001b[0m\u001b[0;34m(\u001b[0m\u001b[0mpairs\u001b[0m\u001b[0;34m)\u001b[0m \u001b[0;34m==\u001b[0m \u001b[0mlist\u001b[0m\u001b[0;34m)\u001b[0m\u001b[0;34m\u001b[0m\u001b[0m\n\u001b[0m",
      "\u001b[0;31mAssertionError\u001b[0m: "
     ]
    }
   ],
   "source": [
    "# Write your own test for the assignment!\n",
    "\n",
    "test_students = [\n",
    "    {'First Name': 'Foo', 'Last Name': 'Funderson'},\n",
    "    {'First Name': 'Baz', 'Last Name': 'Bazerson'},\n",
    "    {'First Name': 'Bar', 'Last Name': 'Barson'},\n",
    "    {'First Name': 'Qux', 'Last Name': 'Quxson'},\n",
    "    {'First Name': 'Quux', 'Last Name': 'Quuxson'},\n",
    "]\n",
    "\n",
    "pairs = make_pairs(test_students)\n",
    "\n",
    "# Write assertions here!\n",
    "assert(type(pairs) == list)"
   ]
  },
  {
   "cell_type": "code",
   "execution_count": null,
   "metadata": {},
   "outputs": [],
   "source": []
  }
 ],
 "metadata": {
  "kernelspec": {
   "display_name": "Python 3",
   "language": "python",
   "name": "python3"
  },
  "language_info": {
   "codemirror_mode": {
    "name": "ipython",
    "version": 3
   },
   "file_extension": ".py",
   "mimetype": "text/x-python",
   "name": "python",
   "nbconvert_exporter": "python",
   "pygments_lexer": "ipython3",
   "version": "3.6.3"
  },
  "name": "Untitled.ipynb"
 },
 "nbformat": 4,
 "nbformat_minor": 2
}
