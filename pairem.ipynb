{
 "cells": [
  {
   "cell_type": "markdown",
   "metadata": {
    "ein.tags": "worksheet-0",
    "slideshow": {
     "slide_type": "-"
    }
   },
   "source": [
    "# Pair Programming\n",
    "\n",
    "Programming in pairs is a serious methodology, proven in many studies to be more effective than programming alone. Today we will pair up, but we need to decide how to match everyone!\n",
    "\n",
    "To do that, we need to write a function that can, taking the list of students, can randomly pair them together. \n",
    "\n",
    "You have seen \"assertions\" in both python (assert) and R (stopifnot). I would like you to write your own, BEFORE you write the code to the function \"make_pairs\". Write an assertion, then write the code to make the assertion pass. This automates your testing!\n",
    "\n",
    "The output should be: \n",
    "\n",
    "1. A list of lists. \n",
    "2. Each \"row\" should have 2-3 elements.\n",
    "3. Each element should be a full name (i.e. \"Nandan Rao\")\n",
    "4. Each person should be somewhere in the list.\n",
    "5. No person should appear more than once!\n",
    "\n",
    "Good luck!"
   ]
  },
  {
   "cell_type": "code",
   "execution_count": 2,
   "metadata": {
    "autoscroll": false,
    "ein.hycell": false,
    "ein.tags": "worksheet-0",
    "slideshow": {
     "slide_type": "-"
    }
   },
   "outputs": [],
   "source": [
    "import csv\n",
    "import random\n",
    "\n",
    "with open('class.csv', 'r') as f: \n",
    "    students = [dict(l) for l in csv.DictReader(f)]"
   ]
  },
  {
   "cell_type": "code",
   "execution_count": 3,
   "metadata": {
    "autoscroll": false,
    "ein.hycell": false,
    "ein.tags": "worksheet-0",
    "slideshow": {
     "slide_type": "-"
    }
   },
   "outputs": [
    {
     "data": {
      "text/plain": [
       "[['Hector Eulogio Cano', 'Monika Anna Matyja'],\n",
       " ['Hannah Gerits', 'Evelyn Maria Molina Bolaños'],\n",
       " ['Hannah Busshoff', 'Maryam Rahbaralam'],\n",
       " ['Guillem Sitges', 'Ari Lam'],\n",
       " ['Snorri Petersen', 'Reid Falconer'],\n",
       " ['Oscar Martínez', 'Lucas Freire'],\n",
       " ['Georgi Konstantinov Gulyashki', 'Callan James Windsor'],\n",
       " ['Maia Brenner Stainfeld', 'Konstantinos Niakaros'],\n",
       " ['Kaka Ye', 'Sixter Leonardo Alcivar'],\n",
       " ['Sebastian Wolf', 'Sam Peter MacIntyre'],\n",
       " ['Eric Alan Beckwith', 'Julia Bois Barnett'],\n",
       " ['Felix Adam', 'Jordi Morera Serra', 'Maximilian Zebhauser']]"
      ]
     },
     "execution_count": 3,
     "metadata": {},
     "output_type": "execute_result"
    }
   ],
   "source": [
    "def make_pairs(students):\n",
    "    sampled_students = random.sample(students, len(students))\n",
    "    is_even = (len(sampled_students) % 2 == 0)\n",
    "    if is_even == True:\n",
    "        student_pairs = []\n",
    "        for z in range(0,len(sampled_students)-1,2):\n",
    "            student_pairs.append(list((sampled_students[z][\"First Name\"] + \" \" + sampled_students[z][\"Last Name\"], \n",
    "                                      sampled_students[z + 1][\"First Name\"] + \" \" + sampled_students[z + 1][\"Last Name\"])))\n",
    "    else: \n",
    "        student_pairs = []\n",
    "        for z in range(0,len(sampled_students)-3,2):\n",
    "            student_pairs.append(list((sampled_students[z][\"First Name\"] + \" \" + sampled_students[z][\"Last Name\"], \n",
    "                                      sampled_students[z + 1][\"First Name\"] + \" \" + sampled_students[z + 1][\"Last Name\"])))\n",
    "        z = len(sampled_students)-3\n",
    "        student_pairs.append(list((sampled_students[z][\"First Name\"] + \" \" + sampled_students[z][\"Last Name\"], \n",
    "                                      sampled_students[z + 1][\"First Name\"] + \" \" + sampled_students[z + 1][\"Last Name\"],\n",
    "                                      sampled_students[z + 2][\"First Name\"] + \" \" + sampled_students[z + 2][\"Last Name\"])))\n",
    "    return(student_pairs)\n",
    "make_pairs(students)"
   ]
  },
  {
   "cell_type": "code",
   "execution_count": 5,
   "metadata": {},
   "outputs": [
    {
     "name": "stdout",
     "output_type": "stream",
     "text": [
      "['Felix Adam', 'Sixter Leonardo Alcivar', 'Julia Bois Barnett', 'Eric Alan Beckwith', 'Maia Brenner Stainfeld', 'Hannah Busshoff', 'Hector Eulogio Cano', 'Reid Falconer', 'Lucas Freire', 'Hannah Gerits', 'Georgi Konstantinov Gulyashki', 'Ari Lam', 'Sam Peter MacIntyre', 'Oscar Martínez', 'Monika Anna Matyja', 'Evelyn Maria Molina Bolaños', 'Jordi Morera Serra', 'Konstantinos Niakaros', 'Snorri Petersen', 'Maryam Rahbaralam', 'Guillem Sitges', 'Callan James Windsor', 'Sebastian Wolf', 'Kaka Ye', 'Maximilian Zebhauser']\n"
     ]
    }
   ],
   "source": [
    "import csv\n",
    "import random\n",
    "\n",
    "with open('class.csv', 'r') as f: \n",
    "    students = [dict(l) for l in csv.DictReader(f)]\n",
    "    \n",
    "student_list = [student[\"First Name\"] + \" \" + student[\"Last Name\"] \n",
    "                for student in students]\n",
    "print(student_list)"
   ]
  },
  {
   "cell_type": "code",
   "execution_count": 9,
   "metadata": {},
   "outputs": [
    {
     "data": {
      "text/plain": [
       "[['Konstantinos Niakaros', 'Guillem Sitges', 'Ari Lam'],\n",
       " ['Georgi Konstantinov Gulyashki', 'Sixter Leonardo Alcivar'],\n",
       " ['Maia Brenner Stainfeld', 'Jordi Morera Serra'],\n",
       " ['Maryam Rahbaralam', 'Reid Falconer'],\n",
       " ['Felix Adam', 'Oscar Martínez'],\n",
       " ['Sebastian Wolf', 'Callan James Windsor'],\n",
       " ['Eric Alan Beckwith', 'Sam Peter MacIntyre'],\n",
       " ['Hannah Gerits', 'Kaka Ye'],\n",
       " ['Snorri Petersen', 'Lucas Freire'],\n",
       " ['Maximilian Zebhauser', 'Hector Eulogio Cano'],\n",
       " ['Julia Bois Barnett', 'Hannah Busshoff'],\n",
       " ['Monika Anna Matyja', 'Evelyn Maria Molina Bolaños']]"
      ]
     },
     "execution_count": 9,
     "metadata": {},
     "output_type": "execute_result"
    }
   ],
   "source": [
    "def randomise_students(student_list):\n",
    "    \n",
    "    student_list = student_list.copy()\n",
    "    \n",
    "    random.shuffle(student_list)\n",
    "    \n",
    "    if len(student_list) % 2 != 0:\n",
    "        random_student = student_list.pop()\n",
    "    \n",
    "    half = round(len(student_list)/2)\n",
    "    student_pairs = []\n",
    "    i=1\n",
    "    \n",
    "    for student in student_list[:half]:\n",
    "        other_student = student_list[-i]\n",
    "        i += 1\n",
    "        pair = [student, other_student]\n",
    "        student_pairs.append(pair)\n",
    "    \n",
    "    if random_student: \n",
    "        student_pairs[0].append(random_student)\n",
    "    \n",
    "    return student_pairs\n",
    "\n",
    "randomise_students(student_list)"
   ]
  },
  {
   "cell_type": "code",
   "execution_count": 4,
   "metadata": {
    "autoscroll": false,
    "ein.hycell": false,
    "ein.tags": "worksheet-0",
    "slideshow": {
     "slide_type": "-"
    }
   },
   "outputs": [
    {
     "data": {
      "text/plain": [
       "12.5"
      ]
     },
     "execution_count": 4,
     "metadata": {},
     "output_type": "execute_result"
    }
   ],
   "source": [
    "# Write your own test for the assignment!\n",
    "\n",
    "test_students = [\n",
    "    {'First Name': 'Foo', 'Last Name': 'Funderson'},\n",
    "    {'First Name': 'Baz', 'Last Name': 'Bazerson'},\n",
    "    {'First Name': 'Bar', 'Last Name': 'Barson'},\n",
    "    {'First Name': 'Qux', 'Last Name': 'Quxson'},\n",
    "    {'First Name': 'Quux', 'Last Name': 'Quuxson'},\n",
    "]\n",
    "\n",
    "pairs = make_pairs(test_students)\n",
    "\n",
    "# Write assertions here!\n",
    "assert(type(make_pairs(students)) == list)\n",
    "#assert(make_pairs(students) == len(students)/2)\n",
    "\n",
    "len(students)/2"
   ]
  },
  {
   "cell_type": "code",
   "execution_count": null,
   "metadata": {},
   "outputs": [],
   "source": []
  },
  {
   "cell_type": "code",
   "execution_count": null,
   "metadata": {},
   "outputs": [],
   "source": []
  }
 ],
 "metadata": {
  "kernelspec": {
   "display_name": "Python 3",
   "language": "python",
   "name": "python3"
  },
  "language_info": {
   "codemirror_mode": {
    "name": "ipython",
    "version": 3
   },
   "file_extension": ".py",
   "mimetype": "text/x-python",
   "name": "python",
   "nbconvert_exporter": "python",
   "pygments_lexer": "ipython3",
   "version": "3.6.3"
  },
  "name": "Untitled.ipynb"
 },
 "nbformat": 4,
 "nbformat_minor": 2
}
