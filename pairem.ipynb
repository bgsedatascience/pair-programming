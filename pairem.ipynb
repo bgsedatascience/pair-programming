{
 "cells": [
  {
   "cell_type": "markdown",
   "metadata": {
    "ein.tags": "worksheet-0",
    "slideshow": {
     "slide_type": "-"
    }
   },
   "source": [
    "# Pair Programming\n",
    "\n",
    "Programming in pairs is a serious methodology, proven in many studies to be more effective than programming alone. Today we will pair up, but we need to decide how to match everyone!\n",
    "\n",
    "To do that, we need to write a function that can, taking the list of students, can randomly pair them together. \n",
    "\n",
    "You have seen \"assertions\" in both python (assert) and R (stopifnot). I would like you to write your own, BEFORE you write the code to the function \"make_pairs\". Write an assertion, then write the code to make the assertion pass. This automates your testing!\n",
    "\n",
    "The output should be: \n",
    "\n",
    "1. A list of lists. \n",
    "2. Each \"row\" should have 2-3 elements.\n",
    "3. Each element should be a full name (i.e. \"Nandan Rao\")\n",
    "4. Each person should be somewhere in the list.\n",
    "5. No person should appear more than once!\n",
    "\n",
    "Good luck!"
   ]
  },
  {
   "cell_type": "code",
   "execution_count": 5,
   "metadata": {},
   "outputs": [],
   "source": []
  },
  {
   "cell_type": "code",
   "execution_count": 14,
   "metadata": {
    "autoscroll": false,
    "ein.hycell": false,
    "ein.tags": "worksheet-0",
    "slideshow": {
     "slide_type": "-"
    }
   },
   "outputs": [
    {
     "name": "stdout",
     "output_type": "stream",
     "text": [
      "[['Jordi Morera Serra', 'Lucas Freire'], ['Snorri Petersen', 'Monika Anna Matyja'], ['Konstantinos Niakaros', 'Oscar Martínez'], ['Ari Lam', 'Maryam Rahbaralam'], ['Callan James Windsor', 'Sebastian Wolf'], ['Hannah Busshoff', 'Julia Bois Barnett'], ['Maia Brenner Stainfeld', 'Guillem Sitges'], ['Felix Adam', 'Kaka Ye'], ['Sixter Leonardo Alcivar', 'Reid Falconer'], ['Evelyn Maria Molina Bolaños', 'Sam Peter MacIntyre'], ['Eric Alan Beckwith', 'Hector Eulogio Cano'], ['Hannah Gerits', 'Georgi Konstantinov Gulyashki', 'Monika Anna Matyja']]\n"
     ]
    }
   ],
   "source": [
    "import csv\n",
    "import numpy as np\n",
    "from random import shuffle\n",
    "\n",
    "with open('class.csv', 'r') as f: \n",
    "    students = [dict(l) for l in csv.DictReader(f)]\n",
    "pairs = []\n",
    "final_pairs = []\n",
    "length = np.arange(0,23,2)\n",
    "shuffle(length)\n",
    "\n",
    "for i in range(len(students)-1):\n",
    "    \n",
    "    pairs.append(students[i][\"First Name\"]+\" \"+students[i][\"Last Name\"] )\n",
    "    \n",
    "shuffle(pairs)\n",
    "\n",
    "for i in length:\n",
    "    final_pairs.append(pairs[i:i+2])\n",
    "if len(students)%2 != 0:\n",
    "\n",
    "    final_pairs[len(final_pairs)-1].append(pairs[len(pairs)-1])\n",
    "    \n",
    "print(final_pairs)\n",
    "\n",
    "    \n"
   ]
  },
  {
   "cell_type": "code",
   "execution_count": 23,
   "metadata": {
    "autoscroll": false,
    "ein.hycell": false,
    "ein.tags": "worksheet-0",
    "slideshow": {
     "slide_type": "-"
    }
   },
   "outputs": [
    {
     "name": "stdout",
     "output_type": "stream",
     "text": [
      "[[['Reid Falconer', 'Snorri Petersen'], ['Georgi Konstantinov Gulyashki', 'Oscar Martínez'], ['Eric Alan Beckwith', 'Guillem Sitges'], ['Lucas Freire', 'Ari Lam'], ['Hannah Gerits', 'Hannah Busshoff'], ['Maryam Rahbaralam', 'Julia Bois Barnett'], ['Sebastian Wolf', 'Sixter Leonardo Alcivar'], ['Felix Adam', 'Jordi Morera Serra'], ['Hector Eulogio Cano', 'Kaka Ye'], ['Monika Anna Matyja', 'Callan James Windsor'], ['Konstantinos Niakaros', 'Sam Peter MacIntyre'], ['Maia Brenner Stainfeld', 'Evelyn Maria Molina Bolaños', 'Jordi Morera Serra']]]\n"
     ]
    }
   ],
   "source": [
    "def make_pairs(students):\n",
    "    pairs = []\n",
    "    final_pairs = []\n",
    "    length = np.arange(0,23,2)\n",
    "    shuffle(length)\n",
    "\n",
    "    for i in range(len(students)-1):\n",
    "    \n",
    "        pairs.append(students[i][\"First Name\"]+\" \"+students[i][\"Last Name\"] )\n",
    "    \n",
    "    shuffle(pairs)\n",
    "\n",
    "    for i in length:\n",
    "        final_pairs.append(pairs[i:i+2])\n",
    "    if len(students)%2 != 0:\n",
    "\n",
    "        final_pairs[len(final_pairs)-1].append(pairs[len(pairs)-1])\n",
    "    \n",
    "\n",
    "        return [final_pairs]\n",
    "print(make_pairs(students))"
   ]
  },
  {
   "cell_type": "code",
   "execution_count": null,
   "metadata": {
    "autoscroll": false,
    "ein.hycell": false,
    "ein.tags": "worksheet-0",
    "slideshow": {
     "slide_type": "-"
    }
   },
   "outputs": [],
   "source": [
    "# Write your own test for the assignment!\n",
    "\n",
    "test_students = [\n",
    "    {'First Name': 'Foo', 'Last Name': 'Funderson'},\n",
    "    {'First Name': 'Baz', 'Last Name': 'Bazerson'},\n",
    "    {'First Name': 'Bar', 'Last Name': 'Barson'},\n",
    "    {'First Name': 'Qux', 'Last Name': 'Quxson'},\n",
    "    {'First Name': 'Quux', 'Last Name': 'Quuxson'},\n",
    "]\n",
    "\n",
    "pairs = make_pairs(test_students)\n",
    "\n",
    "# Write assertions here!\n",
    "assert(type(pairs) == list)"
   ]
  }
 ],
 "metadata": {
  "kernelspec": {
   "display_name": "Python 3",
   "language": "python",
   "name": "python3"
  },
  "language_info": {
   "codemirror_mode": {
    "name": "ipython",
    "version": 3
   },
   "file_extension": ".py",
   "mimetype": "text/x-python",
   "name": "python",
   "nbconvert_exporter": "python",
   "pygments_lexer": "ipython3",
   "version": "3.6.3"
  },
  "name": "Untitled.ipynb"
 },
 "nbformat": 4,
 "nbformat_minor": 2
}
