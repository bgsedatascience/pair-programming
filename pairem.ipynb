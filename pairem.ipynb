{
 "cells": [
  {
   "cell_type": "markdown",
   "metadata": {
    "ein.tags": "worksheet-0",
    "slideshow": {
     "slide_type": "-"
    }
   },
   "source": [
    "# Pair Programming\n",
    "\n",
    "Programming in pairs is a serious methodology, proven in many studies to be more effective than programming alone. Today we will pair up, but we need to decide how to match everyone!\n",
    "\n",
    "To do that, we need to write a function that can, taking the list of students, can randomly pair them together. \n",
    "\n",
    "You have seen \"assertions\" in both python (assert) and R (stopifnot). I would like you to write your own, BEFORE you write the code to the function \"make_pairs\". Write an assertion, then write the code to make the assertion pass. This automates your testing!\n",
    "\n",
    "The output should be: \n",
    "\n",
    "1. A list of lists. \n",
    "2. Each \"row\" should have 2-3 elements.\n",
    "3. Each element should be a full name (i.e. \"Nandan Rao\")\n",
    "4. Each person should be somewhere in the list.\n",
    "5. No person should appear more than once!\n",
    "\n",
    "Good luck!"
   ]
  },
  {
   "cell_type": "code",
   "execution_count": 21,
   "metadata": {
    "autoscroll": false,
    "ein.hycell": false,
    "ein.tags": "worksheet-0",
    "slideshow": {
     "slide_type": "-"
    }
   },
   "outputs": [],
   "source": [
    "import csv\n",
    "\n",
    "with open('class.csv', 'r') as f: \n",
    "    students = [dict(l) for l in csv.DictReader(f)]"
   ]
  },
  {
   "cell_type": "code",
   "execution_count": 13,
   "metadata": {
    "autoscroll": false,
    "ein.hycell": false,
    "ein.tags": "worksheet-0",
    "slideshow": {
     "slide_type": "-"
    }
   },
   "outputs": [
    {
     "name": "stdout",
     "output_type": "stream",
     "text": [
      "<function make_pairs at 0x7ff80c14bc80>\n"
     ]
    }
   ],
   "source": [
    "#Create the names list\n",
    "first_names = []\n",
    "last_names = []\n",
    "names = []\n",
    "for i in range(0, len(students)):\n",
    "    first_names.append(students[i].get('First Name'))\n",
    "    last_names.append(students[i].get('Last Name'))    \n",
    "\n",
    "for i in range(0, len(first_names)):\n",
    "    names.append(first_names[i] + \" \" + last_names[i])\n",
    "    \n",
    "print(names)"
   ]
  },
  {
   "cell_type": "code",
   "execution_count": 15,
   "metadata": {
    "autoscroll": false,
    "ein.hycell": false,
    "ein.tags": "worksheet-0",
    "slideshow": {
     "slide_type": "-"
    }
   },
   "outputs": [
    {
     "name": "stdout",
     "output_type": "stream",
     "text": [
      "['Foo', 'Baz', 'Bar', 'Qux', 'Quux']\n",
      "['Funderson', 'Bazerson', 'Barson', 'Quxson', 'Quuxson']\n",
      "['Foo Funderson', 'Baz Bazerson', 'Bar Barson', 'Qux Quxson', 'Quux Quuxson']\n"
     ]
    }
   ],
   "source": [
    "# Write your own test for the assignment!\n",
    "\n",
    "test_students = [\n",
    "    {'First Name': 'Foo', 'Last Name': 'Funderson'},\n",
    "    {'First Name': 'Baz', 'Last Name': 'Bazerson'},\n",
    "    {'First Name': 'Bar', 'Last Name': 'Barson'},\n",
    "    {'First Name': 'Qux', 'Last Name': 'Quxson'},\n",
    "    {'First Name': 'Quux', 'Last Name': 'Quuxson'},\n",
    "]\n",
    "\n",
    "pairs = make_pairs(test_students)\n",
    "\n",
    "# Write assertions here!\n",
    "assert(type(pairs) == list)"
   ]
  },
  {
   "cell_type": "code",
   "execution_count": 20,
   "metadata": {},
   "outputs": [
    {
     "data": {
      "text/plain": [
       "['Konstantinos Niakaros, Felix Adam',\n",
       " 'Callan James Windsor, Hannah Busshoff',\n",
       " 'Julia Bois Barnett, Ari Lam',\n",
       " 'Monika Anna Matyja, Reid Falconer',\n",
       " 'Sebastian Wolf, Eric Alan Beckwith',\n",
       " 'Snorri Petersen, Lucas Freire',\n",
       " 'Hannah Gerits, Sixter Leonardo Alcivar',\n",
       " 'Sam Peter MacIntyre, Guillem Sitges',\n",
       " 'Maryam Rahbaralam, Maia Brenner Stainfeld',\n",
       " 'Hector Eulogio Cano, Oscar Martínez',\n",
       " 'Kaka Ye, Maximilian Zebhauser',\n",
       " 'Georgi Konstantinov Gulyashki, Jordi Morera Serra',\n",
       " 'Evelyn Maria Molina Bolaños, Nandan Rao']"
      ]
     },
     "execution_count": 20,
     "metadata": {},
     "output_type": "execute_result"
    }
   ],
   "source": [
    "#Final Product\n",
    "first_names = []\n",
    "last_names = []\n",
    "names = []\n",
    "\n",
    "for i in range(0, len(students)):\n",
    "    first_names.append(students[i].get('First Name'))\n",
    "    last_names.append(students[i].get('Last Name'))    \n",
    "\n",
    "for i in range(0, len(first_names)):\n",
    "    names.append(first_names[i] + \" \" + last_names[i])\n",
    "    \n",
    "random.shuffle(names)S\n",
    "\n",
    "paired = []\n",
    "\n",
    "for i in range(0, len(names)-1, 2):\n",
    "    paired.append(names[i] + \", \" + names[i+1])\n",
    "\n",
    "paired.append(names[-1] + \", \" + \"Nandan Rao\")\n",
    "\n",
    "paired"
   ]
  }
 ],
 "metadata": {
  "kernelspec": {
   "display_name": "Python 3",
   "language": "python",
   "name": "python3"
  },
  "language_info": {
   "codemirror_mode": {
    "name": "ipython",
    "version": 3
   },
   "file_extension": ".py",
   "mimetype": "text/x-python",
   "name": "python",
   "nbconvert_exporter": "python",
   "pygments_lexer": "ipython3",
   "version": "3.6.3"
  },
  "name": "Untitled.ipynb"
 },
 "nbformat": 4,
 "nbformat_minor": 2
}
