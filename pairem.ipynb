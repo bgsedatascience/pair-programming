{
 "cells": [
  {
   "cell_type": "markdown",
   "metadata": {
    "ein.tags": "worksheet-0",
    "slideshow": {
     "slide_type": "-"
    }
   },
   "source": [
    "# Pair Programming\n",
    "\n",
    "Programming in pairs is a serious methodology, proven in many studies to be more effective than programming alone. Today we will pair up, but we need to decide how to match everyone!\n",
    "\n",
    "To do that, we need to write a function that can, taking the list of students, can randomly pair them together. \n",
    "\n",
    "You have seen \"assertions\" in both python (assert) and R (stopifnot). I would like you to write your own, BEFORE you write the code to the function \"make_pairs\". Write an assertion, then write the code to make the assertion pass. This automates your testing!\n",
    "\n",
    "The output should be: \n",
    "\n",
    "1. A list of lists. \n",
    "2. Each \"row\" should have 2-3 elements.\n",
    "3. Each element should be a full name (i.e. \"Nandan Rao\")\n",
    "4. Each person should be somewhere in the list.\n",
    "5. No person should appear more than once!\n",
    "\n",
    "Good luck!"
   ]
  },
  {
   "cell_type": "code",
   "execution_count": 205,
   "metadata": {
    "autoscroll": false,
    "ein.hycell": false,
    "ein.tags": "worksheet-0",
    "slideshow": {
     "slide_type": "-"
    }
   },
   "outputs": [],
   "source": [
    "import csv\n",
    "\n",
    "with open('class.csv', 'r') as f: \n",
    "    students = [dict(l) for l in csv.DictReader(f)]"
   ]
  },
  {
   "cell_type": "code",
   "execution_count": 200,
   "metadata": {
    "autoscroll": false,
    "ein.hycell": false,
    "ein.tags": "worksheet-0",
    "slideshow": {
     "slide_type": "-"
    }
   },
   "outputs": [
    {
     "data": {
      "text/plain": [
       "[['Felix Adam, Sixter Leonardo Alcivar',\n",
       "  'Julia Bois Barnett, Eric Alan Beckwith',\n",
       "  'Maia Brenner Stainfeld, Hannah Busshoff',\n",
       "  'Hector Eulogio Cano, Reid Falconer',\n",
       "  'Lucas Freire, Hannah Gerits',\n",
       "  'Georgi Konstantinov Gulyashki, Ari Lam',\n",
       "  'Sam Peter MacIntyre, Oscar Martínez',\n",
       "  'Monika Anna Matyja, Evelyn Maria Molina Bolaños',\n",
       "  'Jordi Morera Serra, Konstantinos Niakaros',\n",
       "  'Snorri Petersen, Maryam Rahbaralam',\n",
       "  'Guillem Sitges, Callan James Windsor',\n",
       "  'Sebastian Wolf, Kaka Ye',\n",
       "  'Maximilian Zebhauser, Nandan Rao']]"
      ]
     },
     "execution_count": 200,
     "metadata": {},
     "output_type": "execute_result"
    }
   ],
   "source": [
    "first_names = []\n",
    "last_names = []\n",
    "names = []\n",
    "paired = []\n",
    "\n",
    "def make_pairs(students):\n",
    "    for i in range(0, len(students)):\n",
    "        first_names.append(students[i].get('First Name'))\n",
    "        last_names.append(students[i].get('Last Name'))    \n",
    "\n",
    "    for i in range(0, len(first_names)):\n",
    "        names.append(first_names[i] + \" \" + last_names[i])\n",
    "\n",
    "    for i in range(0, len(names)-1, 2):\n",
    "        paired.append(names[i] + \", \" + names[i+1])\n",
    "\n",
    "            \n",
    "    paired.append(names[-1] + \", \" + \"Nandan Rao\")\n",
    "    \n",
    "    random.shuffle(names)\n",
    "    return [paired]\n",
    "\n",
    "make_pairs(students)"
   ]
  },
  {
   "cell_type": "code",
   "execution_count": 208,
   "metadata": {},
   "outputs": [
    {
     "name": "stdout",
     "output_type": "stream",
     "text": [
      "['Felix Adam', 'Sixter Leonardo Alcivar', 'Julia Bois Barnett', 'Eric Alan Beckwith', 'Maia Brenner Stainfeld', 'Hannah Busshoff', 'Hector Eulogio Cano', 'Reid Falconer', 'Lucas Freire', 'Hannah Gerits', 'Georgi Konstantinov Gulyashki', 'Ari Lam', 'Sam Peter MacIntyre', 'Oscar Martínez', 'Monika Anna Matyja', 'Evelyn Maria Molina Bolaños', 'Jordi Morera Serra', 'Konstantinos Niakaros', 'Snorri Petersen', 'Maryam Rahbaralam', 'Guillem Sitges', 'Callan James Windsor', 'Sebastian Wolf', 'Kaka Ye', 'Maximilian Zebhauser']\n"
     ]
    }
   ],
   "source": [
    "###Sebastian's way\n",
    "\n",
    "student_list = [test[\"First Name\"] + \" \" + test[\"Last Name\"] for test in students]\n",
    "print(student_list)"
   ]
  },
  {
   "cell_type": "code",
   "execution_count": 246,
   "metadata": {},
   "outputs": [
    {
     "data": {
      "text/plain": [
       "[['Maximilian Zebhauser', 'Sixter Leonardo Alcivar'],\n",
       " ['Konstantinos Niakaros', 'Eric Alan Beckwith'],\n",
       " ['Georgi Konstantinov Gulyashki', 'Reid Falconer'],\n",
       " ['Oscar Martínez', 'Maryam Rahbaralam'],\n",
       " ['Hector Eulogio Cano', 'Hannah Busshoff'],\n",
       " ['Hannah Gerits', 'Guillem Sitges'],\n",
       " ['Snorri Petersen', 'Monika Anna Matyja'],\n",
       " ['Maia Brenner Stainfeld', 'Sam Peter MacIntyre'],\n",
       " ['Julia Bois Barnett', 'Sebastian Wolf'],\n",
       " ['Felix Adam', 'Ari Lam'],\n",
       " ['Jordi Morera Serra', 'Callan James Windsor'],\n",
       " ['Evelyn Maria Molina Bolaños', 'Kaka Ye', 'Lucas Freire']]"
      ]
     },
     "execution_count": 246,
     "metadata": {},
     "output_type": "execute_result"
    }
   ],
   "source": [
    "##CLASS FIX\n",
    "\n",
    "first_names = []\n",
    "last_names = []\n",
    "names = []\n",
    "\n",
    "for i in range(0, len(students)):\n",
    "    first_names.append(students[i].get('First Name'))\n",
    "    last_names.append(students[i].get('Last Name'))    \n",
    "\n",
    "for i in range(0, len(first_names)):\n",
    "    names.append(first_names[i] + \" \" + last_names[i])\n",
    "    \n",
    "random.shuffle(names)\n",
    "\n",
    "if len(names)%2 != 0 :\n",
    "    odd_man_out = names.pop()\n",
    "\n",
    "paired = []\n",
    "\n",
    "for i in range(0, len(names), 2):\n",
    "    pair = [names[i], names[i+1]]\n",
    "    paired.append(pair)\n",
    "    \n",
    "paired[-1].append(odd_man_out)\n",
    "\n",
    "paired"
   ]
  },
  {
   "cell_type": "code",
   "execution_count": null,
   "metadata": {},
   "outputs": [],
   "source": []
  },
  {
   "cell_type": "code",
   "execution_count": 195,
   "metadata": {},
   "outputs": [
    {
     "data": {
      "text/plain": [
       "['Lucas Freire, Hector Eulogio Cano',\n",
       " 'Jordi Morera Serra, Maryam Rahbaralam',\n",
       " 'Guillem Sitges, Konstantinos Niakaros',\n",
       " 'Kaka Ye, Maia Brenner Stainfeld',\n",
       " 'Callan James Windsor, Julia Bois Barnett',\n",
       " 'Sixter Leonardo Alcivar, Hannah Busshoff',\n",
       " 'Maximilian Zebhauser, Sebastian Wolf',\n",
       " 'Evelyn Maria Molina Bolaños, Felix Adam',\n",
       " 'Eric Alan Beckwith, Reid Falconer',\n",
       " 'Hannah Gerits, Monika Anna Matyja',\n",
       " 'Oscar Martínez, Sam Peter MacIntyre',\n",
       " 'Snorri Petersen, Ari Lam',\n",
       " 'Georgi Konstantinov Gulyashki, Nandan Rao']"
      ]
     },
     "execution_count": 195,
     "metadata": {},
     "output_type": "execute_result"
    }
   ],
   "source": [
    "first_names = []\n",
    "last_names = []\n",
    "names = []\n",
    "for i in range(0, len(students)):\n",
    "    first_names.append(students[i].get('First Name'))\n",
    "    last_names.append(students[i].get('Last Name'))    \n",
    "\n",
    "for i in range(0, len(first_names)):\n",
    "    names.append(first_names[i] + \" \" + last_names[i])\n",
    "    \n",
    "random.shuffle(names)\n",
    "\n",
    "paired = []\n",
    "\n",
    "for i in range(0, len(names)-1, 2):\n",
    "    paired.append(names[i] + \", \" + names[i+1])\n",
    "\n",
    "paired.append(names[-1] + \", \" + \"Nandan Rao\")\n",
    "\n",
    "paired"
   ]
  },
  {
   "cell_type": "code",
   "execution_count": 118,
   "metadata": {},
   "outputs": [
    {
     "name": "stdout",
     "output_type": "stream",
     "text": [
      "['Felix Adam', 'Sixter Leonardo Alcivar', 'Julia Bois Barnett', 'Eric Alan Beckwith', 'Maia Brenner Stainfeld', 'Hannah Busshoff', 'Hector Eulogio Cano', 'Reid Falconer', 'Lucas Freire', 'Hannah Gerits', 'Georgi Konstantinov Gulyashki', 'Ari Lam', 'Sam Peter MacIntyre', 'Oscar Martínez', 'Monika Anna Matyja', 'Evelyn Maria Molina Bolaños', 'Jordi Morera Serra', 'Konstantinos Niakaros', 'Snorri Petersen', 'Maryam Rahbaralam', 'Guillem Sitges', 'Callan James Windsor', 'Sebastian Wolf', 'Kaka Ye', 'Maximilian Zebhauser']\n"
     ]
    }
   ],
   "source": [
    "##create the names list\n",
    "\n",
    "first_names = []\n",
    "last_names = []\n",
    "names = []\n",
    "for i in range(0, len(students)):\n",
    "    first_names.append(students[i].get('First Name'))\n",
    "    last_names.append(students[i].get('Last Name'))    \n",
    "\n",
    "for i in range(0, len(first_names)):\n",
    "    names.append(first_names[i] + \" \" + last_names[i])\n",
    "    \n",
    "print(names)"
   ]
  },
  {
   "cell_type": "code",
   "execution_count": 196,
   "metadata": {},
   "outputs": [],
   "source": [
    "import random"
   ]
  },
  {
   "cell_type": "code",
   "execution_count": 179,
   "metadata": {},
   "outputs": [
    {
     "name": "stdout",
     "output_type": "stream",
     "text": [
      "['Foo', 'Baz', 'Bar', 'Qux', 'Quux']\n",
      "['Funderson', 'Bazerson', 'Barson', 'Quxson', 'Quuxson']\n",
      "['Foo Funderson', 'Baz Bazerson', 'Bar Barson', 'Qux Quxson', 'Quux Quuxson']\n"
     ]
    }
   ],
   "source": [
    "test_students = [\n",
    "    {'First Name': 'Foo', 'Last Name': 'Funderson'},\n",
    "    {'First Name': 'Baz', 'Last Name': 'Bazerson'},\n",
    "    {'First Name': 'Bar', 'Last Name': 'Barson'},\n",
    "    {'First Name': 'Qux', 'Last Name': 'Quxson'},\n",
    "    {'First Name': 'Quux', 'Last Name': 'Quuxson'},\n",
    "]\n",
    "\n",
    "first_names = []\n",
    "last_names = []\n",
    "names = []\n",
    "\n",
    "for i in range(0, len(test_students)):\n",
    "    first_names.append(test_students[i].get('First Name'))\n",
    "    last_names.append(test_students[i].get('Last Name'))    \n",
    "\n",
    "for i in range(0, len(first_names)):\n",
    "    names.append(first_names[i] + \" \" + last_names[i])\n",
    "\n",
    "print(first_names)\n",
    "print(last_names)\n",
    "print(names)"
   ]
  },
  {
   "cell_type": "code",
   "execution_count": 209,
   "metadata": {},
   "outputs": [
    {
     "data": {
      "text/plain": [
       "['Ari Lam',\n",
       " 'Oscar Martínez',\n",
       " 'Hannah Gerits',\n",
       " 'Callan James Windsor',\n",
       " 'Eric Alan Beckwith',\n",
       " 'Evelyn Maria Molina Bolaños',\n",
       " 'Julia Bois Barnett',\n",
       " 'Monika Anna Matyja',\n",
       " 'Sam Peter MacIntyre',\n",
       " 'Felix Adam',\n",
       " 'Konstantinos Niakaros',\n",
       " 'Snorri Petersen',\n",
       " 'Hector Eulogio Cano',\n",
       " 'Maximilian Zebhauser',\n",
       " 'Lucas Freire',\n",
       " 'Sebastian Wolf',\n",
       " 'Jordi Morera Serra',\n",
       " 'Maia Brenner Stainfeld',\n",
       " 'Reid Falconer',\n",
       " 'Sixter Leonardo Alcivar',\n",
       " 'Kaka Ye',\n",
       " 'Georgi Konstantinov Gulyashki',\n",
       " 'Maryam Rahbaralam',\n",
       " 'Guillem Sitges',\n",
       " 'Hannah Busshoff']"
      ]
     },
     "execution_count": 209,
     "metadata": {},
     "output_type": "execute_result"
    }
   ],
   "source": [
    "##shuffle the namea\n",
    "\n",
    "random.shuffle(names)\n",
    "\n",
    "names"
   ]
  },
  {
   "cell_type": "code",
   "execution_count": 182,
   "metadata": {},
   "outputs": [
    {
     "data": {
      "text/plain": [
       "['Bar Barson, Quux Quuxson', 'Qux Quxson, Baz Bazerson', 'Foo Funderson']"
      ]
     },
     "execution_count": 182,
     "metadata": {},
     "output_type": "execute_result"
    }
   ],
   "source": [
    "paired = []\n",
    "\n",
    "for i in range(0, len(names)-1, 2):\n",
    "    paired.append(names[i] + \", \" + names[i+1])\n",
    "\n",
    "paired.append(names[-1])\n",
    "\n",
    "paired"
   ]
  },
  {
   "cell_type": "code",
   "execution_count": null,
   "metadata": {},
   "outputs": [],
   "source": []
  }
 ],
 "metadata": {
  "kernelspec": {
   "display_name": "Python 3",
   "language": "python",
   "name": "python3"
  },
  "language_info": {
   "codemirror_mode": {
    "name": "ipython",
    "version": 3
   },
   "file_extension": ".py",
   "mimetype": "text/x-python",
   "name": "python",
   "nbconvert_exporter": "python",
   "pygments_lexer": "ipython3",
   "version": "3.6.3"
  },
  "name": "Untitled.ipynb"
 },
 "nbformat": 4,
 "nbformat_minor": 2
}
