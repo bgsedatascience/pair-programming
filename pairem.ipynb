{
 "cells": [
  {
   "cell_type": "markdown",
   "metadata": {
    "ein.tags": "worksheet-0",
    "slideshow": {
     "slide_type": "-"
    }
   },
   "source": [
    "# Pair Programming\n",
    "\n",
    "Programming in pairs is a serious methodology, proven in many studies to be more effective than programming alone. Today we will pair up, but we need to decide how to match everyone!\n",
    "\n",
    "To do that, we need to write a function that can, taking the list of students, can randomly pair them together. \n",
    "\n",
    "You have seen \"assertions\" in both python (assert) and R (stopifnot). I would like you to write your own, BEFORE you write the code to the function \"make_pairs\". Write an assertion, then write the code to make the assertion pass. This automates your testing!\n",
    "\n",
    "The output should be: \n",
    "\n",
    "1. A list of lists. \n",
    "2. Each \"row\" should have 2-3 elements.\n",
    "3. Each element should be a full name (i.e. \"Nandan Rao\")\n",
    "4. Each person should be somewhere in the list.\n",
    "5. No person should appear more than once!\n",
    "\n",
    "Good luck!"
   ]
  },
  {
   "cell_type": "code",
   "execution_count": 97,
   "metadata": {
    "autoscroll": false,
    "ein.hycell": false,
    "ein.tags": "worksheet-0",
    "slideshow": {
     "slide_type": "-"
    }
   },
   "outputs": [],
   "source": [
    "import csv\n",
    "import random\n",
    "\n",
    "with open('class.csv', 'r') as f: \n",
    "    students = [dict(l) for l in csv.DictReader(f)]\n",
    "    \n"
   ]
  },
  {
   "cell_type": "code",
   "execution_count": 98,
   "metadata": {},
   "outputs": [
    {
     "data": {
      "text/plain": [
       "{'First Name': 'Maximilian',\n",
       " 'Last Name': 'Zebhauser',\n",
       " 'GSE Email': 'maximilian.zebhauser@barcelonagse.eu'}"
      ]
     },
     "execution_count": 98,
     "metadata": {},
     "output_type": "execute_result"
    }
   ],
   "source": [
    "students[24]"
   ]
  },
  {
   "cell_type": "code",
   "execution_count": 99,
   "metadata": {},
   "outputs": [],
   "source": [
    "def removeEmail(lst):\n",
    "    names = [0]*(len(lst))\n",
    "    for i in range(0,len(lst)):\n",
    "        names[i] = lst[i][\"First Name\"]+\" \"+ lst[i][\"Last Name\"]\n",
    "    return names"
   ]
  },
  {
   "cell_type": "code",
   "execution_count": 101,
   "metadata": {},
   "outputs": [
    {
     "data": {
      "text/plain": [
       "25"
      ]
     },
     "execution_count": 101,
     "metadata": {},
     "output_type": "execute_result"
    }
   ],
   "source": [
    "list = removeEmail(students)\n",
    "len(list)"
   ]
  },
  {
   "cell_type": "code",
   "execution_count": 62,
   "metadata": {},
   "outputs": [],
   "source": [
    "def pop_random(lst):\n",
    "    idx = random.randrange(0, len(lst),1)\n",
    "    return lst.pop(idx)"
   ]
  },
  {
   "cell_type": "code",
   "execution_count": 106,
   "metadata": {
    "autoscroll": false,
    "ein.hycell": false,
    "ein.tags": "worksheet-0",
    "slideshow": {
     "slide_type": "-"
    }
   },
   "outputs": [],
   "source": [
    "def make_pairs(students):\n",
    "    studentsN = removeEmail(students)\n",
    "    pairs =[]\n",
    "    \n",
    "    if len(studentsN)%2 == 0:\n",
    "        while studentsN:\n",
    "            rand1 = pop_random(studentsN)\n",
    "            rand2 = pop_random(studentsN)\n",
    "            pair = rand1,rand2\n",
    "            pairs.append(pair)\n",
    "            \n",
    "    else:\n",
    "        rand_solo1 = pop_random(studentsN)\n",
    "        rand_solo2 = pop_random(studentsN)\n",
    "        rand_solo3 = pop_random(studentsN)\n",
    "        trio = rand_solo1,rand_solo2,rand_solo3\n",
    "        pairs.append(trio)\n",
    "        while studentsN:\n",
    "            rand3 = pop_random(studentsN)\n",
    "            rand4 = pop_random(studentsN)\n",
    "            pair = rand3,rand4\n",
    "            pairs.append(pair)\n",
    "        \n",
    "    return pairs"
   ]
  },
  {
   "cell_type": "code",
   "execution_count": 68,
   "metadata": {},
   "outputs": [
    {
     "data": {
      "text/plain": [
       "'Eric Alan Beckwith'"
      ]
     },
     "execution_count": 68,
     "metadata": {},
     "output_type": "execute_result"
    }
   ],
   "source": [
    "pop_random(removeEmail(students))"
   ]
  },
  {
   "cell_type": "code",
   "execution_count": 107,
   "metadata": {},
   "outputs": [
    {
     "data": {
      "text/plain": [
       "[('Monika Anna Matyja', 'Maia Brenner Stainfeld', 'Maryam Rahbaralam'),\n",
       " ('Sixter Leonardo Alcivar', 'Snorri Petersen'),\n",
       " ('Felix Adam', 'Sebastian Wolf'),\n",
       " ('Callan James Windsor', 'Kaka Ye'),\n",
       " ('Maximilian Zebhauser', 'Julia Bois Barnett'),\n",
       " ('Jordi Morera Serra', 'Georgi Konstantinov Gulyashki'),\n",
       " ('Hector Eulogio Cano', 'Sam Peter MacIntyre'),\n",
       " ('Eric Alan Beckwith', 'Hannah Busshoff'),\n",
       " ('Hannah Gerits', 'Guillem Sitges'),\n",
       " ('Evelyn Maria Molina Bolaños', 'Oscar Martínez'),\n",
       " ('Lucas Freire', 'Konstantinos Niakaros'),\n",
       " ('Reid Falconer', 'Ari Lam')]"
      ]
     },
     "execution_count": 107,
     "metadata": {},
     "output_type": "execute_result"
    }
   ],
   "source": [
    "make_pairs(students)"
   ]
  },
  {
   "cell_type": "markdown",
   "metadata": {},
   "source": []
  },
  {
   "cell_type": "code",
   "execution_count": 94,
   "metadata": {
    "autoscroll": false,
    "ein.hycell": false,
    "ein.tags": "worksheet-0",
    "slideshow": {
     "slide_type": "-"
    }
   },
   "outputs": [
    {
     "data": {
      "text/plain": [
       "['Baz Bazerson',\n",
       " ('Bar Barson', 'Quux Quuxson'),\n",
       " ('Qux Quxson', 'Foo Funderson')]"
      ]
     },
     "execution_count": 94,
     "metadata": {},
     "output_type": "execute_result"
    }
   ],
   "source": [
    "# Write your own test for the assignment!\n",
    "\n",
    "test_students = [\n",
    "    {'First Name': 'Foo', 'Last Name': 'Funderson'},\n",
    "    {'First Name': 'Baz', 'Last Name': 'Bazerson'},\n",
    "    {'First Name': 'Bar', 'Last Name': 'Barson'},\n",
    "    {'First Name': 'Qux', 'Last Name': 'Quxson'},\n",
    "    {'First Name': 'Quux', 'Last Name': 'Quuxson'},\n",
    "]\n",
    "make_pairs(test_students)\n",
    "\n",
    "\n",
    "\n",
    "# Write assertions here!\n",
    "\n"
   ]
  },
  {
   "cell_type": "code",
   "execution_count": 8,
   "metadata": {},
   "outputs": [
    {
     "ename": "SyntaxError",
     "evalue": "invalid syntax (<ipython-input-8-57a8227f9ad4>, line 1)",
     "output_type": "error",
     "traceback": [
      "\u001b[0;36m  File \u001b[0;32m\"<ipython-input-8-57a8227f9ad4>\"\u001b[0;36m, line \u001b[0;32m1\u001b[0m\n\u001b[0;31m    help(assert)\u001b[0m\n\u001b[0m              ^\u001b[0m\n\u001b[0;31mSyntaxError\u001b[0m\u001b[0;31m:\u001b[0m invalid syntax\n"
     ]
    }
   ],
   "source": []
  },
  {
   "cell_type": "code",
   "execution_count": null,
   "metadata": {},
   "outputs": [],
   "source": []
  }
 ],
 "metadata": {
  "kernelspec": {
   "display_name": "Python 3",
   "language": "python",
   "name": "python3"
  },
  "language_info": {
   "codemirror_mode": {
    "name": "ipython",
    "version": 3
   },
   "file_extension": ".py",
   "mimetype": "text/x-python",
   "name": "python",
   "nbconvert_exporter": "python",
   "pygments_lexer": "ipython3",
   "version": "3.6.3"
  },
  "name": "Untitled.ipynb"
 },
 "nbformat": 4,
 "nbformat_minor": 2
}
