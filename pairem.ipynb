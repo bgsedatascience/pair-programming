{
 "cells": [
  {
   "cell_type": "markdown",
   "metadata": {
    "ein.tags": "worksheet-0",
    "slideshow": {
     "slide_type": "-"
    }
   },
   "source": [
    "# Pair Programming\n",
    "\n",
    "Programming in pairs is a serious methodology, proven in many studies to be more effective than programming alone. Today we will pair up, but we need to decide how to match everyone!\n",
    "\n",
    "To do that, we need to write a function that can, taking the list of students, can randomly pair them together. \n",
    "\n",
    "You have seen \"assertions\" in both python (assert) and R (stopifnot). I would like you to write your own, BEFORE you write the code to the function \"make_pairs\". Write an assertion, then write the code to make the assertion pass. This automates your testing!\n",
    "\n",
    "The output should be: \n",
    "\n",
    "1. A list of lists. \n",
    "2. Each \"row\" should have 2-3 elements.\n",
    "3. Each element should be a full name (i.e. \"Nandan Rao\")\n",
    "4. Each person should be somewhere in the list.\n",
    "5. No person should appear more than once!\n",
    "\n",
    "Good luck!"
   ]
  },
  {
   "cell_type": "code",
   "execution_count": 27,
   "metadata": {
    "autoscroll": false,
    "ein.hycell": false,
    "ein.tags": "worksheet-0",
    "slideshow": {
     "slide_type": "-"
    }
   },
   "outputs": [
    {
     "name": "stdout",
     "output_type": "stream",
     "text": [
      "[{'First Name': 'Felix', 'Last Name': 'Adam', 'GSE Email': 'felix.adam@barcelonagse.eu'}, {'First Name': 'Sixter Leonardo', 'Last Name': 'Alcivar', 'GSE Email': 'sixter.alcivar@barcelonagse.eu'}, {'First Name': 'Julia Bois', 'Last Name': 'Barnett', 'GSE Email': 'julia.barnett@barcelonagse.eu'}, {'First Name': 'Eric Alan', 'Last Name': 'Beckwith', 'GSE Email': 'eric.beckwith@barcelonagse.eu'}, {'First Name': 'Maia', 'Last Name': 'Brenner Stainfeld', 'GSE Email': 'maia.brennerstainfeld@barcelonagse.eu'}, {'First Name': 'Hannah', 'Last Name': 'Busshoff', 'GSE Email': 'hannah.busshoff@barcelonagse.eu'}, {'First Name': 'Hector Eulogio', 'Last Name': 'Cano', 'GSE Email': 'hector.cano@barcelonagse.eu'}, {'First Name': 'Reid', 'Last Name': 'Falconer', 'GSE Email': 'reid.falconer@barcelonagse.eu'}, {'First Name': 'Lucas', 'Last Name': 'Freire', 'GSE Email': 'lucas.freire@barcelonagse.eu'}, {'First Name': 'Hannah', 'Last Name': 'Gerits', 'GSE Email': 'hannah.gerits@barcelonagse.eu'}, {'First Name': 'Georgi Konstantinov', 'Last Name': 'Gulyashki', 'GSE Email': 'georgi.gulyashki@barcelonagse.eu'}, {'First Name': 'Ari', 'Last Name': 'Lam', 'GSE Email': 'ari.lam@barcelonagse.eu'}, {'First Name': 'Sam Peter', 'Last Name': 'MacIntyre', 'GSE Email': 'sam.macintyre@barcelonagse.eu'}, {'First Name': 'Oscar', 'Last Name': 'Martínez', 'GSE Email': 'oscar.martinez@barcelonagse.eu'}, {'First Name': 'Monika Anna', 'Last Name': 'Matyja', 'GSE Email': 'monika.matyja@barcelonagse.eu'}, {'First Name': 'Evelyn Maria', 'Last Name': 'Molina Bolaños', 'GSE Email': 'evelyn.molinabolanos@barcelonagse.eu'}, {'First Name': 'Jordi', 'Last Name': 'Morera Serra', 'GSE Email': 'jordi.morera@barcelonagse.eu'}, {'First Name': 'Konstantinos', 'Last Name': 'Niakaros', 'GSE Email': 'konstantinos.niakaros@barcelonagse.eu'}, {'First Name': 'Snorri', 'Last Name': 'Petersen', 'GSE Email': 'snorri.petersen@barcelonagse.eu'}, {'First Name': 'Maryam', 'Last Name': 'Rahbaralam', 'GSE Email': 'maryam.rahbaralam@barcelonagse.eu'}, {'First Name': 'Guillem', 'Last Name': 'Sitges', 'GSE Email': 'guillem.sitges@barcelonagse.eu'}, {'First Name': 'Callan James', 'Last Name': 'Windsor', 'GSE Email': 'callan.windsor@barcelonagse.eu'}, {'First Name': 'Sebastian', 'Last Name': 'Wolf', 'GSE Email': 'sebastian.wolf@barcelonagse.eu'}, {'First Name': 'Kaka', 'Last Name': 'Ye', 'GSE Email': 'kaka.ye@barcelonagse.eu'}, {'First Name': 'Maximilian', 'Last Name': 'Zebhauser', 'GSE Email': 'maximilian.zebhauser@barcelonagse.eu'}]\n"
     ]
    }
   ],
   "source": [
    "import csv\n",
    "\n",
    "with open('class.csv', 'r') as f: \n",
    "    students = [dict(l) for l in csv.DictReader(f)]"
   ]
  },
  {
   "cell_type": "code",
   "execution_count": null,
   "metadata": {
    "autoscroll": false,
    "ein.hycell": false,
    "ein.tags": "worksheet-0",
    "slideshow": {
     "slide_type": "-"
    }
   },
   "outputs": [],
   "source": [
    "def make_pairs(students):\n",
    "    return []"
   ]
  },
  {
   "cell_type": "code",
   "execution_count": 3,
   "metadata": {
    "autoscroll": false,
    "ein.hycell": false,
    "ein.tags": "worksheet-0",
    "slideshow": {
     "slide_type": "-"
    }
   },
   "outputs": [
    {
     "data": {
      "text/plain": [
       "5"
      ]
     },
     "execution_count": 3,
     "metadata": {},
     "output_type": "execute_result"
    }
   ],
   "source": [
    "# Write your own test for the assignment!\n",
    "\n",
    "test_students = [\n",
    "    {'First Name': 'Foo', 'Last Name': 'Funderson'},\n",
    "    {'First Name': 'Baz', 'Last Name': 'Bazerson'},\n",
    "    {'First Name': 'Bar', 'Last Name': 'Barson'},\n",
    "    {'First Name': 'Qux', 'Last Name': 'Quxson'},\n",
    "    {'First Name': 'Quux', 'Last Name': 'Quuxson'},\n",
    "]\n",
    "test_students[1]\n",
    "len(test_students)\n",
    "#pairs = make_pairs(test_students)\n",
    "\n",
    "# Write assertions here!\n",
    "#assert(type(pairs) == list)"
   ]
  },
  {
   "cell_type": "code",
   "execution_count": 90,
   "metadata": {},
   "outputs": [
    {
     "data": {
      "text/plain": [
       "[{'First Name': 'Quux', 'Last Name': 'Quuxson'}]"
      ]
     },
     "execution_count": 90,
     "metadata": {},
     "output_type": "execute_result"
    }
   ],
   "source": [
    "students = [\n",
    "    {'First Name': 'Foo', 'Last Name': 'Funderson'},\n",
    "    {'First Name': 'Baz', 'Last Name': 'Bazerson'},\n",
    "    {'First Name': 'Bar', 'Last Name': 'Barson'},\n",
    "    {'First Name': 'Qux', 'Last Name': 'Quxson'},\n",
    "    {'First Name': 'Quux', 'Last Name': 'Quuxson'},\n",
    "]\n",
    "\n",
    "list(students[-1:])"
   ]
  },
  {
   "cell_type": "code",
   "execution_count": 91,
   "metadata": {},
   "outputs": [
    {
     "data": {
      "text/plain": [
       "[({'First Name': 'Quux', 'Last Name': 'Quuxson'},\n",
       "  {'First Name': 'Foo', 'Last Name': 'Funderson'}),\n",
       " ({'First Name': 'Qux', 'Last Name': 'Quxson'},\n",
       "  {'First Name': 'Bar', 'Last Name': 'Barson'}),\n",
       " {'First Name': 'Baz', 'Last Name': 'Bazerson'}]"
      ]
     },
     "execution_count": 91,
     "metadata": {},
     "output_type": "execute_result"
    }
   ],
   "source": [
    "import random\n",
    "\n",
    "\n",
    "students = [\n",
    "    {'First Name': 'Foo', 'Last Name': 'Funderson'},\n",
    "    {'First Name': 'Baz', 'Last Name': 'Bazerson'},\n",
    "    {'First Name': 'Bar', 'Last Name': 'Barson'},\n",
    "    {'First Name': 'Qux', 'Last Name': 'Quxson'},\n",
    "    {'First Name': 'Quux', 'Last Name': 'Quuxson'},\n",
    "]\n",
    "\n",
    "def Randomizer(students):\n",
    "    random.shuffle(students)\n",
    "    #order = list(range(len(students)))\n",
    "    #random.shuffle(order)\n",
    "    #students = [students[i] for i in order]\n",
    "    return students\n",
    "    \n",
    "def make_pairs(students):\n",
    "    first_half = students[:len(students)//2]\n",
    "    second_half = students[len(students)//2:]\n",
    "    student_pairs = list(zip(first_half, second_half)) + list(students[-1:])\n",
    "    return student_pairs\n",
    "\n",
    "    #for i in range(len(students)-1):\n",
    "        #print(students[i],\"is paired with\", students[i+2])\n",
    "    #for i,k in students:\n",
    "        #print (students[i] + \"is paired with\" + students[k])\n",
    "    \n",
    "\n",
    "Randomizer(students) \n",
    "list(make_pairs(students))"
   ]
  }
 ],
 "metadata": {
  "kernelspec": {
   "display_name": "Python 3",
   "language": "python",
   "name": "python3"
  },
  "language_info": {
   "codemirror_mode": {
    "name": "ipython",
    "version": 3
   },
   "file_extension": ".py",
   "mimetype": "text/x-python",
   "name": "python",
   "nbconvert_exporter": "python",
   "pygments_lexer": "ipython3",
   "version": "3.6.3"
  },
  "name": "Untitled.ipynb"
 },
 "nbformat": 4,
 "nbformat_minor": 2
}
