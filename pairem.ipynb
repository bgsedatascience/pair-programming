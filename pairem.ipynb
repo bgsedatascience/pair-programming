{
 "cells": [
  {
   "cell_type": "markdown",
   "metadata": {
    "ein.tags": "worksheet-0",
    "slideshow": {
     "slide_type": "-"
    }
   },
   "source": [
    "# Pair Programming\n",
    "\n",
    "Programming in pairs is a serious methodology, proven in many studies to be more effective than programming alone. Today we will pair up, but we need to decide how to match everyone!\n",
    "\n",
    "To do that, we need to write a function that can, taking the list of students, can randomly pair them together. \n",
    "\n",
    "You have seen \"assertions\" in both python (assert) and R (stopifnot). I would like you to write your own, BEFORE you write the code to the function \"make_pairs\". Write an assertion, then write the code to make the assertion pass. This automates your testing!\n",
    "\n",
    "The output should be: \n",
    "\n",
    "1. A list of lists. \n",
    "2. Each \"row\" should have 2-3 elements.\n",
    "3. Each element should be a full name (i.e. \"Nandan Rao\")\n",
    "4. Each person should be somewhere in the list.\n",
    "5. No person should appear more than once!\n",
    "\n",
    "Good luck!"
   ]
  },
  {
   "cell_type": "code",
   "execution_count": 147,
   "metadata": {
    "autoscroll": false,
    "ein.hycell": false,
    "ein.tags": "worksheet-0",
    "slideshow": {
     "slide_type": "-"
    }
   },
   "outputs": [],
   "source": [
    "import csv\n",
    "import random\n",
    "\n",
    "with open('class.csv', 'r') as f: \n",
    "    students = [dict(l) for l in csv.DictReader(f)]"
   ]
  },
  {
   "cell_type": "code",
   "execution_count": 148,
   "metadata": {},
   "outputs": [],
   "source": [
    "def parse_dict(dict, key):\n",
    "    mystr = dict.get(key).strip()\n",
    "    return mystr"
   ]
  },
  {
   "cell_type": "code",
   "execution_count": 149,
   "metadata": {},
   "outputs": [],
   "source": [
    "def extract_name(dict):\n",
    "    first_name = parse_dict(dict, 'First Name')\n",
    "    last_name = parse_dict(dict, 'Last Name')\n",
    "    full_name = first_name + ' ' + last_name\n",
    "    return full_name\n",
    "    # student_list = [student[\"First Name\"] + \" \" + student[\"Last Name\"] for student in students]"
   ]
  },
  {
   "cell_type": "code",
   "execution_count": 161,
   "metadata": {
    "autoscroll": false,
    "ein.hycell": false,
    "ein.tags": "worksheet-0",
    "slideshow": {
     "slide_type": "-"
    }
   },
   "outputs": [],
   "source": [
    "def make_pairs(students):\n",
    "    students_name = []\n",
    "    for i in range(len(students)):\n",
    "        students_name.append(extract_name(students[i]))\n",
    "    return random_pairs(students_name)"
   ]
  },
  {
   "cell_type": "code",
   "execution_count": 179,
   "metadata": {},
   "outputs": [],
   "source": [
    "def random_pairs(student_list):\n",
    "    student_list = student_list.copy()\n",
    "    random.shuffle(student_list)\n",
    "            \n",
    "    half = round(len(student_list)/2)\n",
    "    student_pairs = []\n",
    "    i = 1\n",
    "    for student in student_list[:half]:\n",
    "        other_student = student_list[-i]\n",
    "        i += 1\n",
    "        pair = [student, other_student]\n",
    "        student_pairs.append(pair)\n",
    "        \n",
    "    # to add the odd student to the 1st group\n",
    "    if len(student_list)%2 != 0 :\n",
    "        random_student = student_list.pop()\n",
    "        student_pairs[0].append(random_student)  \n",
    "\n",
    "        \n",
    "    return student_pairs"
   ]
  },
  {
   "cell_type": "code",
   "execution_count": 180,
   "metadata": {
    "autoscroll": false,
    "ein.hycell": false,
    "ein.tags": "worksheet-0",
    "slideshow": {
     "slide_type": "-"
    }
   },
   "outputs": [
    {
     "name": "stdout",
     "output_type": "stream",
     "text": [
      "[['Maximilian Zebhauser', 'Konstantinos Niakaros', 'Konstantinos Niakaros'], ['Georgi Konstantinov Gulyashki', 'Julia Bois Barnett'], ['Hannah Busshoff', 'Sam Peter MacIntyre'], ['Jordi Morera Serra', 'Lucas Freire'], ['Oscar Martínez', 'Maryam Rahbaralam'], ['Hector Eulogio Cano', 'Ari Lam'], ['Guillem Sitges', 'Sebastian Wolf'], ['Evelyn Maria Molina Bolaños', 'Callan James Windsor'], ['Snorri Petersen', 'Kaka Ye'], ['Eric Alan Beckwith', 'Monika Anna Matyja'], ['Sixter Leonardo Alcivar', 'Felix Adam'], ['Reid Falconer', 'Maia Brenner Stainfeld']]\n"
     ]
    }
   ],
   "source": [
    "# Write your own test for the assignment!\n",
    "\n",
    "# test_students = [\n",
    "#     {'First Name': 'Foo', 'Last Name': 'Funderson'},\n",
    "#     {'First Name': 'Baz', 'Last Name': 'Bazerson'},\n",
    "#     {'First Name': 'Bar', 'Last Name': 'Barson'},\n",
    "#     {'First Name': 'Qux', 'Last Name': 'Quxson'},\n",
    "# #     {'First Name': 'Quux', 'Last Name': 'Quuxson'},\n",
    "# ]\n",
    "\n",
    "# pairs = make_pairs(test_students)\n",
    "pairs = make_pairs(students)\n",
    "\n",
    "\n",
    "\n",
    "print(pairs)\n",
    "\n",
    "# Write assertions here!\n",
    "# assert(type(pairs) == list)"
   ]
  },
  {
   "cell_type": "code",
   "execution_count": null,
   "metadata": {},
   "outputs": [],
   "source": []
  }
 ],
 "metadata": {
  "kernelspec": {
   "display_name": "Python 3",
   "language": "python",
   "name": "python3"
  },
  "language_info": {
   "codemirror_mode": {
    "name": "ipython",
    "version": 3
   },
   "file_extension": ".py",
   "mimetype": "text/x-python",
   "name": "python",
   "nbconvert_exporter": "python",
   "pygments_lexer": "ipython3",
   "version": "3.6.3"
  },
  "name": "Untitled.ipynb"
 },
 "nbformat": 4,
 "nbformat_minor": 2
}
