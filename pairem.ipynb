{
 "cells": [
  {
   "cell_type": "markdown",
   "metadata": {
    "ein.tags": "worksheet-0",
    "slideshow": {
     "slide_type": "-"
    }
   },
   "source": [
    "# Pair Programming\n",
    "\n",
    "Programming in pairs is a serious methodology, proven in many studies to be more effective than programming alone. Today we will pair up, but we need to decide how to match everyone!\n",
    "\n",
    "To do that, we need to write a function that can, taking the list of students, can randomly pair them together. \n",
    "\n",
    "You have seen \"assertions\" in both python (assert) and R (stopifnot). I would like you to write your own, BEFORE you write the code to the function \"make_pairs\". Write an assertion, then write the code to make the assertion pass. This automates your testing!\n",
    "\n",
    "The output should be: \n",
    "\n",
    "1. A list of lists. \n",
    "2. Each \"row\" should have 2-3 elements.\n",
    "3. Each element should be a full name (i.e. \"Nandan Rao\")\n",
    "4. Each person should be somewhere in the list.\n",
    "5. No person should appear more than once!\n",
    "\n",
    "Good luck!"
   ]
  },
  {
   "cell_type": "code",
   "execution_count": 69,
   "metadata": {},
   "outputs": [
    {
     "data": {
      "text/plain": [
       "12"
      ]
     },
     "execution_count": 69,
     "metadata": {},
     "output_type": "execute_result"
    }
   ],
   "source": [
    "import csv\n",
    "import numpy as np\n",
    "from random import shuffle\n",
    "\n",
    "with open('class.csv', 'r') as f: \n",
    "    students = [dict(l) for l in csv.DictReader(f)]\n",
    "final_pairs=[]\n",
    "length=np.arange(0,23,2)\n",
    "shuffle(length)\n",
    "round(len(students)/2)\n"
   ]
  },
  {
   "cell_type": "code",
   "execution_count": 96,
   "metadata": {
    "autoscroll": false,
    "ein.hycell": false,
    "ein.tags": "worksheet-0",
    "slideshow": {
     "slide_type": "-"
    }
   },
   "outputs": [
    {
     "name": "stdout",
     "output_type": "stream",
     "text": [
      "[['Felix Adam', 'Sixter Leonardo Alcivar'], ['Oscar Martínez', 'Callan James Windsor'], ['Maryam Rahbaralam', 'Georgi Konstantinov Gulyashki'], ['Ari Lam', 'Maia Brenner Stainfeld'], ['Sam Peter MacIntyre', 'Julia Bois Barnett'], ['Snorri Petersen', 'Hannah Busshoff'], ['Konstantinos Niakaros', 'Evelyn Maria Molina Bolaños'], ['Eric Alan Beckwith', 'Lucas Freire'], ['Hector Eulogio Cano', 'Guillem Sitges'], ['Reid Falconer', 'Kaka Ye'], ['Hannah Gerits', 'Monika Anna Matyja'], ['Jordi Morera Serra', 'Sebastian Wolf', 'Maia Brenner Stainfeld']]\n"
     ]
    },
    {
     "data": {
      "text/plain": [
       "12"
      ]
     },
     "execution_count": 96,
     "metadata": {},
     "output_type": "execute_result"
    }
   ],
   "source": [
    "import csv\n",
    "import numpy as np\n",
    "from random import shuffle\n",
    "\n",
    "with open('class.csv', 'r') as f: \n",
    "    students = [dict(l) for l in csv.DictReader(f)]\n",
    "pairs=[]\n",
    "final_pairs=[]\n",
    "length=np.arange(0,23,2)\n",
    "shuffle(length)\n",
    "count=0\n",
    "\n",
    "for i in range(len(students)-1):\n",
    "    \n",
    "    pairs.append(students[i][\"First Name\"]+\" \"+students[i][\"Last Name\"])\n",
    "   \n",
    "\n",
    "shuffle(pairs)\n",
    "\n",
    "for i in length:\n",
    "        final_pairs.append(pairs[i:i+2])\n",
    "if len(students) % 2 != 0:\n",
    "    final_pairs[len(final_pairs)-1].append(pairs[len(pairs)-1])\n",
    "print(final_pairs)\n",
    "len(final_pairs)"
   ]
  },
  {
   "cell_type": "code",
   "execution_count": null,
   "metadata": {
    "autoscroll": false,
    "ein.hycell": false,
    "ein.tags": "worksheet-0",
    "slideshow": {
     "slide_type": "-"
    }
   },
   "outputs": [],
   "source": [
    "def make_pairs(students):\n",
    "    pairs=[]\n",
    "    final_pairs=[]\n",
    "    length=np.arange(0,len(students)-2,2)\n",
    "    shuffle(length)\n",
    "    \n",
    "    for i in range(len(students)-1):\n",
    "        pairs.append(students[i][\"First Name\"]+\" \"+students[i][\"Last Name\"])\n",
    "   \n",
    "    shuffle(pairs)\n",
    "    for i in length:\n",
    "        final_pairs.append(pairs[i:i+2])\n",
    "    if len(students) % 2 != 0:\n",
    "        final_pairs[len(final_pairs)-1].append(pairs[len(pairs)-1])\n",
    "    return (final_pairs)"
   ]
  },
  {
   "cell_type": "code",
   "execution_count": null,
   "metadata": {
    "autoscroll": false,
    "ein.hycell": false,
    "ein.tags": "worksheet-0",
    "slideshow": {
     "slide_type": "-"
    }
   },
   "outputs": [],
   "source": [
    "# Write your own test for the assignment!\n",
    "\n",
    "test_students = [\n",
    "    {'First Name': 'Foo', 'Last Name': 'Funderson'},\n",
    "    {'First Name': 'Baz', 'Last Name': 'Bazerson'},\n",
    "    {'First Name': 'Bar', 'Last Name': 'Barson'},\n",
    "    {'First Name': 'Qux', 'Last Name': 'Quxson'},\n",
    "    {'First Name': 'Quux', 'Last Name': 'Quuxson'},\n",
    "]\n",
    "\n",
    "pairs = make_pairs(test_students)\n",
    "\n",
    "# Write assertions here!\n",
    "assert(type(pairs) == list)\n",
    "assert(len(pairs)==round(len(students)/2))\n"
   ]
  }
 ],
 "metadata": {
  "kernelspec": {
   "display_name": "Python 3",
   "language": "python",
   "name": "python3"
  },
  "language_info": {
   "codemirror_mode": {
    "name": "ipython",
    "version": 3
   },
   "file_extension": ".py",
   "mimetype": "text/x-python",
   "name": "python",
   "nbconvert_exporter": "python",
   "pygments_lexer": "ipython3",
   "version": "3.6.3"
  },
  "name": "Untitled.ipynb"
 },
 "nbformat": 4,
 "nbformat_minor": 2
}
