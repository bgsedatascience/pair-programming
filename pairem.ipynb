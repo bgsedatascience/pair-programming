{
 "cells": [
  {
   "cell_type": "markdown",
   "metadata": {
    "ein.tags": "worksheet-0",
    "slideshow": {
     "slide_type": "-"
    }
   },
   "source": [
    "# Pair Programming\n",
    "\n",
    "Programming in pairs is a serious methodology, proven in many studies to be more effective than programming alone. Today we will pair up, but we need to decide how to match everyone!\n",
    "\n",
    "To do that, we need to write a function that can, taking the list of students, can randomly pair them together. \n",
    "\n",
    "You have seen \"assertions\" in both python (assert) and R (stopifnot). I would like you to write your own, BEFORE you write the code to the function \"make_pairs\". Write an assertion, then write the code to make the assertion pass. This automates your testing!\n",
    "\n",
    "The output should be: \n",
    "\n",
    "1. A list of lists. \n",
    "2. Each \"row\" should have 2-3 elements.\n",
    "3. Each element should be a full name (i.e. \"Nandan Rao\")\n",
    "4. Each person should be somewhere in the list.\n",
    "5. No person should appear more than once!\n",
    "\n",
    "Good luck!"
   ]
  },
  {
   "cell_type": "code",
   "execution_count": 100,
   "metadata": {
    "autoscroll": false,
    "ein.hycell": false,
    "ein.tags": "worksheet-0",
    "slideshow": {
     "slide_type": "-"
    }
   },
   "outputs": [
    {
     "name": "stdout",
     "output_type": "stream",
     "text": [
      "[{'First Name': 'Felix', 'Last Name': 'Adam', 'GSE Email': 'felix.adam@barcelonagse.eu'}, {'First Name': 'Sixter Leonardo', 'Last Name': 'Alcivar', 'GSE Email': 'sixter.alcivar@barcelonagse.eu'}, {'First Name': 'Julia Bois', 'Last Name': 'Barnett', 'GSE Email': 'julia.barnett@barcelonagse.eu'}, {'First Name': 'Eric Alan', 'Last Name': 'Beckwith', 'GSE Email': 'eric.beckwith@barcelonagse.eu'}, {'First Name': 'Maia', 'Last Name': 'Brenner Stainfeld', 'GSE Email': 'maia.brennerstainfeld@barcelonagse.eu'}, {'First Name': 'Hannah', 'Last Name': 'Busshoff', 'GSE Email': 'hannah.busshoff@barcelonagse.eu'}, {'First Name': 'Hector Eulogio', 'Last Name': 'Cano', 'GSE Email': 'hector.cano@barcelonagse.eu'}, {'First Name': 'Reid', 'Last Name': 'Falconer', 'GSE Email': 'reid.falconer@barcelonagse.eu'}, {'First Name': 'Lucas', 'Last Name': 'Freire', 'GSE Email': 'lucas.freire@barcelonagse.eu'}, {'First Name': 'Hannah', 'Last Name': 'Gerits', 'GSE Email': 'hannah.gerits@barcelonagse.eu'}, {'First Name': 'Georgi Konstantinov', 'Last Name': 'Gulyashki', 'GSE Email': 'georgi.gulyashki@barcelonagse.eu'}, {'First Name': 'Ari', 'Last Name': 'Lam', 'GSE Email': 'ari.lam@barcelonagse.eu'}, {'First Name': 'Sam Peter', 'Last Name': 'MacIntyre', 'GSE Email': 'sam.macintyre@barcelonagse.eu'}, {'First Name': 'Oscar', 'Last Name': 'Martínez', 'GSE Email': 'oscar.martinez@barcelonagse.eu'}, {'First Name': 'Monika Anna', 'Last Name': 'Matyja', 'GSE Email': 'monika.matyja@barcelonagse.eu'}, {'First Name': 'Evelyn Maria', 'Last Name': 'Molina Bolaños', 'GSE Email': 'evelyn.molinabolanos@barcelonagse.eu'}, {'First Name': 'Jordi', 'Last Name': 'Morera Serra', 'GSE Email': 'jordi.morera@barcelonagse.eu'}, {'First Name': 'Konstantinos', 'Last Name': 'Niakaros', 'GSE Email': 'konstantinos.niakaros@barcelonagse.eu'}, {'First Name': 'Snorri', 'Last Name': 'Petersen', 'GSE Email': 'snorri.petersen@barcelonagse.eu'}, {'First Name': 'Maryam', 'Last Name': 'Rahbaralam', 'GSE Email': 'maryam.rahbaralam@barcelonagse.eu'}, {'First Name': 'Guillem', 'Last Name': 'Sitges', 'GSE Email': 'guillem.sitges@barcelonagse.eu'}, {'First Name': 'Callan James', 'Last Name': 'Windsor', 'GSE Email': 'callan.windsor@barcelonagse.eu'}, {'First Name': 'Sebastian', 'Last Name': 'Wolf', 'GSE Email': 'sebastian.wolf@barcelonagse.eu'}, {'First Name': 'Kaka', 'Last Name': 'Ye', 'GSE Email': 'kaka.ye@barcelonagse.eu'}, {'First Name': 'Maximilian', 'Last Name': 'Zebhauser', 'GSE Email': 'maximilian.zebhauser@barcelonagse.eu'}]\n"
     ]
    }
   ],
   "source": [
    "import csv\n",
    "\n",
    "with open('class.csv', 'r') as f: \n",
    "    students = [dict(l) for l in csv.DictReader(f)]\n",
    "    \n",
    "    print(students)"
   ]
  },
  {
   "cell_type": "code",
   "execution_count": 101,
   "metadata": {
    "autoscroll": false,
    "ein.hycell": false,
    "ein.tags": "worksheet-0",
    "slideshow": {
     "slide_type": "-"
    }
   },
   "outputs": [
    {
     "name": "stdout",
     "output_type": "stream",
     "text": [
      "['Felix Adam', 'Sixter Leonardo Alcivar', 'Julia Bois Barnett', 'Eric Alan Beckwith', 'Maia Brenner Stainfeld', 'Hannah Busshoff', 'Hector Eulogio Cano', 'Reid Falconer', 'Lucas Freire', 'Hannah Gerits', 'Georgi Konstantinov Gulyashki', 'Ari Lam', 'Sam Peter MacIntyre', 'Oscar Martínez', 'Monika Anna Matyja', 'Evelyn Maria Molina Bolaños', 'Jordi Morera Serra', 'Konstantinos Niakaros', 'Snorri Petersen', 'Maryam Rahbaralam', 'Guillem Sitges', 'Callan James Windsor', 'Sebastian Wolf', 'Kaka Ye', 'Maximilian Zebhauser']\n"
     ]
    }
   ],
   "source": [
    "student_list = [test[\"First Name\"] + \" \" + test[\"Last Name\"] \n",
    "                for test in students]\n",
    "print(student_list)"
   ]
  },
  {
   "cell_type": "code",
   "execution_count": 105,
   "metadata": {},
   "outputs": [
    {
     "data": {
      "text/plain": [
       "[['Hannah Busshoff', 'Sixter Leonardo Alcivar', 'Monika Anna Matyja'],\n",
       " ['Julia Bois Barnett', 'Georgi Konstantinov Gulyashki'],\n",
       " ['Callan James Windsor', 'Oscar Martínez'],\n",
       " ['Konstantinos Niakaros', 'Sebastian Wolf'],\n",
       " ['Hector Eulogio Cano', 'Lucas Freire'],\n",
       " ['Maryam Rahbaralam', 'Reid Falconer'],\n",
       " ['Snorri Petersen', 'Maximilian Zebhauser'],\n",
       " ['Kaka Ye', 'Ari Lam'],\n",
       " ['Sam Peter MacIntyre', 'Eric Alan Beckwith'],\n",
       " ['Felix Adam', 'Evelyn Maria Molina Bolaños'],\n",
       " ['Hannah Gerits', 'Jordi Morera Serra'],\n",
       " ['Guillem Sitges', 'Maia Brenner Stainfeld']]"
      ]
     },
     "execution_count": 105,
     "metadata": {},
     "output_type": "execute_result"
    }
   ],
   "source": [
    "import random\n",
    "\n",
    "def randomise_students (student_list):\n",
    "    student_list = student_list.copy()\n",
    "    random.shuffle(student_list)\n",
    "\n",
    "    if len(student_list)%2 != 0 : \n",
    "        random_student = student_list.pop()\n",
    "\n",
    "    half = round(len(student_list)/2)\n",
    "\n",
    "    student_pairs = []\n",
    "\n",
    "    i = 1\n",
    "\n",
    "    for student in student_list[:half]:\n",
    "        other_student = student_list[-i]\n",
    "        i += 1\n",
    "        pair = [student, other_student]\n",
    "        student_pairs.append(pair)\n",
    "\n",
    "    if random_student : \n",
    "        student_pairs[0].append(random_student)\n",
    "\n",
    "    return student_pairs\n",
    "\n",
    "randomise_students(student_list)"
   ]
  },
  {
   "cell_type": "code",
   "execution_count": 17,
   "metadata": {
    "autoscroll": false,
    "ein.hycell": false,
    "ein.tags": "worksheet-0",
    "slideshow": {
     "slide_type": "-"
    }
   },
   "outputs": [
    {
     "ename": "AssertionError",
     "evalue": "",
     "output_type": "error",
     "traceback": [
      "\u001b[0;31m---------------------------------------------------------------------------\u001b[0m",
      "\u001b[0;31mAssertionError\u001b[0m                            Traceback (most recent call last)",
      "\u001b[0;32m<ipython-input-17-4ed1fa6c8c5d>\u001b[0m in \u001b[0;36m<module>\u001b[0;34m()\u001b[0m\n\u001b[1;32m     15\u001b[0m \u001b[0;32massert\u001b[0m\u001b[0;34m(\u001b[0m\u001b[0mtype\u001b[0m\u001b[0;34m(\u001b[0m\u001b[0mpairs\u001b[0m\u001b[0;34m[\u001b[0m\u001b[0;34m:\u001b[0m\u001b[0;34m]\u001b[0m\u001b[0;34m)\u001b[0m \u001b[0;34m==\u001b[0m \u001b[0mlist\u001b[0m\u001b[0;34m)\u001b[0m\u001b[0;34m\u001b[0m\u001b[0m\n\u001b[1;32m     16\u001b[0m \u001b[0;32massert\u001b[0m\u001b[0;34m(\u001b[0m\u001b[0mlen\u001b[0m\u001b[0;34m(\u001b[0m\u001b[0mpairs\u001b[0m\u001b[0;34m[\u001b[0m\u001b[0;34m:\u001b[0m\u001b[0;34m]\u001b[0m\u001b[0;34m)\u001b[0m\u001b[0;34m<\u001b[0m\u001b[0;36m4\u001b[0m\u001b[0;34m)\u001b[0m\u001b[0;34m\u001b[0m\u001b[0m\n\u001b[0;32m---> 17\u001b[0;31m \u001b[0;32massert\u001b[0m\u001b[0;34m(\u001b[0m\u001b[0mlen\u001b[0m\u001b[0;34m(\u001b[0m\u001b[0mpairs\u001b[0m\u001b[0;34m[\u001b[0m\u001b[0;34m:\u001b[0m\u001b[0;34m]\u001b[0m\u001b[0;34m)\u001b[0m\u001b[0;34m>\u001b[0m\u001b[0;36m1\u001b[0m\u001b[0;34m)\u001b[0m\u001b[0;34m\u001b[0m\u001b[0m\n\u001b[0m",
      "\u001b[0;31mAssertionError\u001b[0m: "
     ]
    }
   ],
   "source": [
    "\n",
    "\n",
    "# Write your own test for the assignment!\n",
    "\n",
    "test_students = [\n",
    "    {'First Name': 'Foo', 'Last Name': 'Funderson'},\n",
    "    {'First Name': 'Baz', 'Last Name': 'Bazerson'},\n",
    "    {'First Name': 'Bar', 'Last Name': 'Barson'},\n",
    "    {'First Name': 'Qux', 'Last Name': 'Quxson'},\n",
    "    {'First Name': 'Quux', 'Last Name': 'Quuxson'},\n",
    "]\n",
    "\n",
    "pairs = make_pairs(test_students)\n",
    "\n",
    "# Write assertions here!\n",
    "assert(type(pairs) == list)\n",
    "assert(type(pairs[:]) == list)\n",
    "assert(len(pairs[:])<4)\n",
    "assert(len(pairs[:])>1)\n",
    "assert(pairs[:][1] != \"\")\n",
    "assert(pairs[:][2] != \"\")\n",
    "assert(pairs[:][3] != \"\")\n",
    "for i in test_students: assert(pairs['i'] != )\n",
    "for i in test_students: assert(pairs['i'])"
   ]
  },
  {
   "cell_type": "code",
   "execution_count": null,
   "metadata": {},
   "outputs": [],
   "source": []
  },
  {
   "cell_type": "code",
   "execution_count": null,
   "metadata": {},
   "outputs": [],
   "source": []
  },
  {
   "cell_type": "code",
   "execution_count": null,
   "metadata": {},
   "outputs": [],
   "source": []
  }
 ],
 "metadata": {
  "kernelspec": {
   "display_name": "Python 3",
   "language": "python",
   "name": "python3"
  },
  "language_info": {
   "codemirror_mode": {
    "name": "ipython",
    "version": 3
   },
   "file_extension": ".py",
   "mimetype": "text/x-python",
   "name": "python",
   "nbconvert_exporter": "python",
   "pygments_lexer": "ipython3",
   "version": "3.6.3"
  },
  "name": "Untitled.ipynb"
 },
 "nbformat": 4,
 "nbformat_minor": 2
}
